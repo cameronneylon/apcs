{
 "metadata": {
  "name": ""
 },
 "nbformat": 3,
 "nbformat_minor": 0,
 "worksheets": [
  {
   "cells": [
    {
     "cell_type": "markdown",
     "metadata": {},
     "source": [
      "Wellcome APC Analysis\n",
      "=====================\n",
      "\n",
      "Testing our ability to automatically populate the Wellcome Trust APC Google Spreadsheet developed [as described in this post](http://access.okfn.org/2014/04/01/wellcome-trust-apc-data-thank-you/).\n",
      "\n",
      "Due to problems with GSpread I'm using a local copy of the spreadsheet."
     ]
    },
    {
     "cell_type": "code",
     "collapsed": false,
     "input": [
      "#Useful imports\n",
      "%load_ext autoreload\n",
      "%autoreload 2\n",
      "import requests\n",
      "import pyoag\n",
      "import csv\n",
      "import urllib"
     ],
     "language": "python",
     "metadata": {},
     "outputs": [],
     "prompt_number": 1
    },
    {
     "cell_type": "code",
     "collapsed": false,
     "input": [
      "with open('data/wellcome-apc.csv', 'rU') as f:\n",
      "    reader = csv.DictReader(f)\n",
      "    data = [line for line in reader]"
     ],
     "language": "python",
     "metadata": {},
     "outputs": [],
     "prompt_number": 2
    },
    {
     "cell_type": "code",
     "collapsed": false,
     "input": [
      "print len([article.get('DOI') for article in data]), 'rows of the table'\n",
      "print len([article.get('DOI') for article in data if article.get('DOI')[0:3] == '10.']), 'rows containing DOIs'"
     ],
     "language": "python",
     "metadata": {},
     "outputs": [
      {
       "output_type": "stream",
       "stream": "stdout",
       "text": [
        "2129 rows of the table\n",
        "1923 rows containing DOIs\n"
       ]
      }
     ],
     "prompt_number": 3
    },
    {
     "cell_type": "code",
     "collapsed": false,
     "input": [
      "dois = [article.get('DOI') for article in data]\n",
      "tofix = [index for index in range(len(dois)) if dois[index][0:3] != '10.']\n",
      "print tofix"
     ],
     "language": "python",
     "metadata": {},
     "outputs": [
      {
       "output_type": "stream",
       "stream": "stdout",
       "text": [
        "[1, 197, 198, 199, 202, 218, 259, 360, 365, 753, 802, 819, 882, 895, 896, 906, 907, 925, 926, 927, 928, 929, 930, 932, 934, 935, 938, 941, 954, 970, 998, 1007, 1011, 1035, 1036, 1037, 1038, 1042, 1043, 1080, 1081, 1082, 1091, 1126, 1127, 1129, 1133, 1135, 1136, 1137, 1138, 1140, 1141, 1142, 1143, 1149, 1150, 1153, 1155, 1157, 1159, 1178, 1180, 1184, 1189, 1190, 1200, 1202, 1203, 1204, 1209, 1211, 1250, 1253, 1254, 1255, 1256, 1259, 1261, 1593, 1598, 1629, 1630, 1631, 1632, 1646, 1648, 1649, 1651, 1660, 1696, 1713, 1714, 1730, 1744, 1751, 1752, 1761, 1763, 1773, 1797, 1799, 1800, 1802, 1803, 1806, 1807, 1808, 1809, 1821, 1822, 1825, 1831, 1835, 1847, 1848, 1849, 1851, 1852, 1861, 1862, 1864, 1865, 1866, 1868, 1880, 1886, 1891, 1892, 1893, 1894, 1895, 1897, 1900, 1904, 1907, 1908, 1913, 1914, 1919, 1923, 1929, 1930, 1931, 1941, 1942, 1945, 1949, 1953, 1954, 1958, 1965, 1969, 1978, 1980, 1982, 1983, 1993, 1995, 1996, 1997, 1998, 2002, 2003, 2004, 2007, 2008, 2010, 2012, 2014, 2017, 2019, 2022, 2025, 2026, 2029, 2033, 2043, 2048, 2049, 2052, 2059, 2060, 2062, 2064, 2065, 2066, 2068, 2069, 2071, 2072, 2091, 2095, 2097, 2100, 2103, 2105, 2109, 2110, 2113, 2115, 2116, 2118, 2121, 2122, 2123]\n"
       ]
      }
     ],
     "prompt_number": 4
    },
    {
     "cell_type": "code",
     "collapsed": false,
     "input": [
      "def doifromcrossref(title, journal):\n",
      "    urlbase = 'http://search.crossref.org/dois?'\n",
      "    params = {'q' : ', '.join([title, journal])}\n",
      "    try:\n",
      "        resp = requests.get(urlbase, params=params)\n",
      "        resp.raise_for_status()\n",
      "        return resp.json()\n",
      "    \n",
      "    except requests.exceptions.HTTPError, e:\n",
      "        print 'HTTPError:', e\n",
      "        print params\n",
      "    \n",
      "responses = []\n",
      "for i in tofix:\n",
      "    responses.append(doifromcrossref(data[i].get('Article title'), data[i].get('Journal title')))"
     ],
     "language": "python",
     "metadata": {},
     "outputs": [],
     "prompt_number": 6
    },
    {
     "cell_type": "code",
     "collapsed": false,
     "input": [
      "def checkcrossref(indexes, responses):\n",
      "    fixed = []\n",
      "    notfixed = []\n",
      "\n",
      "    for i, resp in enumerate(responses):\n",
      "        if resp is not None and (resp[0].get('score')> 2):\n",
      "            fixed.append((indexes[i], resp[0]['doi'], resp[0]['title'], data[indexes[i]].get('Article title')))\n",
      "        elif resp is not None:\n",
      "            notfixed.append((indexes[i], resp[0]['doi'], resp[0]['title'], data[indexes[i]].get('Article title')))\n",
      "        \n",
      "    return fixed, notfixed\n",
      "\n"
     ],
     "language": "python",
     "metadata": {},
     "outputs": [],
     "prompt_number": 7
    },
    {
     "cell_type": "code",
     "collapsed": false,
     "input": [
      "fixed, notfixed = checkcrossref(tofix, responses)"
     ],
     "language": "python",
     "metadata": {},
     "outputs": [],
     "prompt_number": 8
    },
    {
     "cell_type": "code",
     "collapsed": false,
     "input": [
      "len(fixed)"
     ],
     "language": "python",
     "metadata": {},
     "outputs": [
      {
       "metadata": {},
       "output_type": "pyout",
       "prompt_number": 9,
       "text": [
        "185"
       ]
      }
     ],
     "prompt_number": 9
    },
    {
     "cell_type": "code",
     "collapsed": false,
     "input": [
      "for nf in notfixed:\n",
      "    print nf\n",
      "        "
     ],
     "language": "python",
     "metadata": {},
     "outputs": [
      {
       "output_type": "stream",
       "stream": "stdout",
       "text": [
        "(1, u'http://dx.doi.org/10.1126/science.1228160', u'High Coverage of ART Associated with Decline in Risk of HIV Acquisition in Rural KwaZulu-Natal, South Africa', 'High Coverage of ART increases')\n",
        "(198, u'http://dx.doi.org/10.1111/maq.12030', u'Evidence, Ethos and Experiment: The Anthropology and History of Medical Research in Africa. P. WenzelGeissler and CatherineMolyneux, eds. New York: Berghahn Books 2011; 498 pp.', 'Parasite lost - remembering modern times with Kenyan government medical scientists.')\n",
        "(199, u'http://dx.doi.org/10.1111/maq.12030', u'Evidence, Ethos and Experiment: The Anthropology and History of Medical Research in Africa. P. WenzelGeissler and CatherineMolyneux, eds. New York: Berghahn Books 2011; 498 pp.', 'Studying trial Communities: anthropological and historical enquiries and ethos, politics and economy of medical research in Africa.')\n",
        "(218, u'http://dx.doi.org/10.1109/embc.2013.6610257', u'Automated IMT estimation and BMI correlation using a low-quality carotid ultrasound image database from India', 'Correlation of automated IMT and BMI in an image database from India on a very low resolution carotid ultrasound.')\n",
        "(895, u'http://dx.doi.org/10.1139/o80-025', u'pH-Dependent amino acid induced conformational changes of rabbit muscle pyruvate kinase', 'Pyruvate kinase is a dosage-dependent regulator of cellular amino acid homeostasis')\n",
        "(896, u'http://dx.doi.org/10.1158/1078-0432.ccr-05-2105', u'Expression of DNA Double-Strand Break Repair Proteins ATM and BRCA1 Predicts Survival in Colorectal Cancer', 'Loss of expression of the double strand break repair protein ATM is associated with worse prognosis in colorectal cancer and loss of Ku70 expression is associated with CIN.')\n",
        "(926, u'http://dx.doi.org/10.3791/50059', u'Procedure for Decellularization of Porcine Heart by Retrograde Coronary Perfusion', 'A decellularization methodology for the production of a natural acellular intestinal matrix')\n",
        "(927, u'http://dx.doi.org/10.3791/4025', u'November 2011: This Month in JoVE', 'FILM - to be filmed in November')\n",
        "(930, u'http://dx.doi.org/10.1017/cbo9780511980053.012', u\"Parkinson's disease\", \"Parkinson's Disease: The Catabolic Theory\")\n",
        "(941, u'http://dx.doi.org/10.4161/cc.26086', u'NF\\u03baB regulates expression of Polo-like kinase 4', 'NF-kB regulates expression of Polo-like kinase 4')\n",
        "(1007, u'http://dx.doi.org/10.1073/pnas.1206055109', u'Shaping acoustic fields as a toolset for microfluidic manipulations in diagnostic technologies', 'Shaping accoustic fields as a toolset for microfluidic manipulations in diagnostic technologies')\n",
        "(1043, u'http://dx.doi.org/10.1038/jid.2010.434', u'Peeling Skin Syndrome: Genetic Defects in Late Terminal Differentiation of the Epidermis', 'Keratin 9 is Required for the Structural Integrity and Terminal Differentiation of Palmoplantar Epidermis')\n",
        "(1184, u'http://dx.doi.org/10.1111/j.1447-0349.2011.00802.x', u'Mental health education programmes for generalist health professionals: An integrative review', 'Estimating the coverage of mental health programmes: a systematic review')\n",
        "(1593, u'http://dx.doi.org/10.1016/s0033-3506(25)80183-5', u'Collected addresses and laboratory Studies\\u2014London School of Hygiene and Tropical Medicine', 'Laboratory Science in Tropical Medicine')\n",
        "(1632, u'http://dx.doi.org/10.1039/b915307c', u'Perspectives and research on environmental effects of ultraviolet radiation', 'Investigating the effects and mechanisms of action of different wavelengths of ultraviolet B (UVB) radiation on the treatment of psoriasis')\n",
        "(1851, u'http://dx.doi.org/10.1111/j.1471-8731.2004.00065.x', u'Rethinking Medical Ethics: A View From Below', 'Rethinking biomedicine and governance in Africa:Contributions from anthropology')\n",
        "(1880, u'http://dx.doi.org/10.1196/annals.1367.017', u'Serotonin and Norepinephrine Reuptake Inhibition and Eating Behavior', 'How serotonin shapes moral judgment and behavior')\n",
        "(1895, u'http://dx.doi.org/10.1111/bph.12287', u' A single channel mutation alters agonist efficacy at 5-HT 3 A and 5-HT 3 AB receptors ', 'A single channel mutation alters agonist efficacy at 5-HT3A and 5-HT3AB receptors')\n",
        "(2012, u'http://dx.doi.org/10.1111/(issn)1600-065x', u'Immunological Reviews', 'Actin cytoskeletal defects in immunodeficiency')\n",
        "(2052, u'http://dx.doi.org/10.1113/jphysiol.2011.214759', u'Redefining the components of central CO2 chemosensitivity-towards a better understanding of mechanism', 'Redefining the component of cenral CO2 chemosensitivity')\n",
        "(2064, u'http://dx.doi.org/10.1093/hmg/ddt439', u'The familial dementia gene revisited: a missense mutation revealed by whole-exome sequencing identifies ITM2B as a candidate gene underlying a novel autosomal dominant retinal dystrophy in a large family', 'Whole exome sequencing identifies a novel variant in APOB causing accumulation of circulating mutant LDL in a family with autosomal dominant hypercholesterolaemia')\n"
       ]
      }
     ],
     "prompt_number": 10
    },
    {
     "cell_type": "markdown",
     "metadata": {},
     "source": [
      "There are two in this list that appear to be correct matches that haven't been caught in this siece so I will add them to the fixed set. Then the new set of DOIs are incorporated into the full data set."
     ]
    },
    {
     "cell_type": "code",
     "collapsed": false,
     "input": [
      "fixed.append(notfixed[0])\n",
      "print notfixed[0]\n",
      "fixed.append(notfixed[9])\n",
      "print notfixed[9]"
     ],
     "language": "python",
     "metadata": {},
     "outputs": [
      {
       "output_type": "stream",
       "stream": "stdout",
       "text": [
        "(1, u'http://dx.doi.org/10.1126/science.1228160', u'High Coverage of ART Associated with Decline in Risk of HIV Acquisition in Rural KwaZulu-Natal, South Africa', 'High Coverage of ART increases')\n",
        "(941, u'http://dx.doi.org/10.4161/cc.26086', u'NF\\u03baB regulates expression of Polo-like kinase 4', 'NF-kB regulates expression of Polo-like kinase 4')\n"
       ]
      }
     ],
     "prompt_number": 11
    },
    {
     "cell_type": "code",
     "collapsed": false,
     "input": [
      "for fix in fixed:\n",
      "    data[fix[0]]['DOI'] = fix[1][18:len(fix[1])]"
     ],
     "language": "python",
     "metadata": {},
     "outputs": [],
     "prompt_number": 12
    },
    {
     "cell_type": "markdown",
     "metadata": {},
     "source": [
      "Using OAG to detect licenses\n",
      "----------------------------\n",
      "\n",
      "We're using the Open Article Gauge API to determine how many licenses we can obtain for this set of articles. This requires making a list of the DOIs and then sending them off to OAG. Still trying to figure out the best time frame to get all the results back as polling is a bit of a poor show all things considered."
     ]
    },
    {
     "cell_type": "code",
     "collapsed": false,
     "input": [
      "oagdois = [article.get('DOI') for article in data if '10.' in article.get('DOI')]\n",
      "req = pyoag.Request(oagdois, delay=0, timeoutdelay=60)"
     ],
     "language": "python",
     "metadata": {},
     "outputs": [
      {
       "output_type": "stream",
       "stream": "stdout",
       "text": [
        "Response Status Code: 200\n",
        "Response Status Code:"
       ]
      },
      {
       "output_type": "stream",
       "stream": "stdout",
       "text": [
        " 200\n",
        "Response Status Code:"
       ]
      },
      {
       "output_type": "stream",
       "stream": "stdout",
       "text": [
        " 200\n",
        "Response Status Code:"
       ]
      },
      {
       "output_type": "stream",
       "stream": "stdout",
       "text": [
        " 200\n",
        "Response Status Code:"
       ]
      },
      {
       "output_type": "stream",
       "stream": "stdout",
       "text": [
        " 200\n",
        "Response Status Code:"
       ]
      },
      {
       "output_type": "stream",
       "stream": "stdout",
       "text": [
        " 200\n",
        "Response Status Code:"
       ]
      },
      {
       "output_type": "stream",
       "stream": "stdout",
       "text": [
        " 200\n",
        "Response Status Code:"
       ]
      },
      {
       "output_type": "stream",
       "stream": "stdout",
       "text": [
        " 200\n",
        "Response Status Code:"
       ]
      },
      {
       "output_type": "stream",
       "stream": "stdout",
       "text": [
        " 200\n",
        "Response Status Code:"
       ]
      },
      {
       "output_type": "stream",
       "stream": "stdout",
       "text": [
        " 200\n",
        "Response Status Code:"
       ]
      },
      {
       "output_type": "stream",
       "stream": "stdout",
       "text": [
        " 200\n",
        "Response Status Code:"
       ]
      },
      {
       "output_type": "stream",
       "stream": "stdout",
       "text": [
        " 200\n",
        "Response Status Code:"
       ]
      },
      {
       "output_type": "stream",
       "stream": "stdout",
       "text": [
        " 200\n",
        "Response Status Code:"
       ]
      },
      {
       "output_type": "stream",
       "stream": "stdout",
       "text": [
        " 200\n",
        "Response Status Code:"
       ]
      },
      {
       "output_type": "stream",
       "stream": "stdout",
       "text": [
        " 200\n",
        "Response Status Code:"
       ]
      },
      {
       "output_type": "stream",
       "stream": "stdout",
       "text": [
        " 200\n",
        "Response Status Code:"
       ]
      },
      {
       "output_type": "stream",
       "stream": "stdout",
       "text": [
        " 200\n",
        "Response Status Code:"
       ]
      },
      {
       "output_type": "stream",
       "stream": "stdout",
       "text": [
        " 200\n",
        "Response Status Code:"
       ]
      },
      {
       "output_type": "stream",
       "stream": "stdout",
       "text": [
        " 200\n",
        "Response Status Code:"
       ]
      },
      {
       "output_type": "stream",
       "stream": "stdout",
       "text": [
        " 200\n",
        "Response Status Code:"
       ]
      },
      {
       "output_type": "stream",
       "stream": "stdout",
       "text": [
        " 200\n",
        "Response Status Code:"
       ]
      },
      {
       "output_type": "stream",
       "stream": "stdout",
       "text": [
        " 200\n",
        "Response Status Code:"
       ]
      },
      {
       "output_type": "stream",
       "stream": "stdout",
       "text": [
        " 200\n",
        "Response Status Code:"
       ]
      },
      {
       "output_type": "stream",
       "stream": "stdout",
       "text": [
        " 200\n",
        "Response Status Code:"
       ]
      },
      {
       "output_type": "stream",
       "stream": "stdout",
       "text": [
        " 200\n",
        "Response Status Code:"
       ]
      },
      {
       "output_type": "stream",
       "stream": "stdout",
       "text": [
        " 200\n",
        "Response Status Code:"
       ]
      },
      {
       "output_type": "stream",
       "stream": "stdout",
       "text": [
        " 200\n",
        "Response Status Code:"
       ]
      },
      {
       "output_type": "stream",
       "stream": "stdout",
       "text": [
        " 200\n",
        "Response Status Code:"
       ]
      },
      {
       "output_type": "stream",
       "stream": "stdout",
       "text": [
        " 200\n",
        "Response Status Code:"
       ]
      },
      {
       "output_type": "stream",
       "stream": "stdout",
       "text": [
        " 200\n",
        "Response Status Code:"
       ]
      },
      {
       "output_type": "stream",
       "stream": "stdout",
       "text": [
        " 200\n",
        "Response Status Code:"
       ]
      },
      {
       "output_type": "stream",
       "stream": "stdout",
       "text": [
        " 200\n",
        "Response Status Code:"
       ]
      },
      {
       "output_type": "stream",
       "stream": "stdout",
       "text": [
        " 200\n",
        "Response Status Code:"
       ]
      },
      {
       "output_type": "stream",
       "stream": "stdout",
       "text": [
        " 200\n",
        "Response Status Code:"
       ]
      },
      {
       "output_type": "stream",
       "stream": "stdout",
       "text": [
        " 200\n",
        "Response Status Code:"
       ]
      },
      {
       "output_type": "stream",
       "stream": "stdout",
       "text": [
        " 200\n",
        "Response Status Code:"
       ]
      },
      {
       "output_type": "stream",
       "stream": "stdout",
       "text": [
        " 200\n",
        "Response Status Code:"
       ]
      },
      {
       "output_type": "stream",
       "stream": "stdout",
       "text": [
        " 200\n",
        "Response Status Code:"
       ]
      },
      {
       "output_type": "stream",
       "stream": "stdout",
       "text": [
        " 200\n",
        "Response Status Code:"
       ]
      },
      {
       "output_type": "stream",
       "stream": "stdout",
       "text": [
        " 200\n",
        "Response Status Code:"
       ]
      },
      {
       "output_type": "stream",
       "stream": "stdout",
       "text": [
        " 200\n",
        "Response Status Code:"
       ]
      },
      {
       "output_type": "stream",
       "stream": "stdout",
       "text": [
        " 200\n",
        "Response Status Code:"
       ]
      },
      {
       "output_type": "stream",
       "stream": "stdout",
       "text": [
        " 200\n",
        "Response Status Code:"
       ]
      },
      {
       "output_type": "stream",
       "stream": "stdout",
       "text": [
        " 200\n",
        "Response Status Code:"
       ]
      },
      {
       "output_type": "stream",
       "stream": "stdout",
       "text": [
        " 200\n",
        "Response Status Code:"
       ]
      },
      {
       "output_type": "stream",
       "stream": "stdout",
       "text": [
        " 200\n",
        "Response Status Code:"
       ]
      },
      {
       "output_type": "stream",
       "stream": "stdout",
       "text": [
        " 200\n",
        "Response Status Code:"
       ]
      },
      {
       "output_type": "stream",
       "stream": "stdout",
       "text": [
        " 200\n",
        "Response Status Code:"
       ]
      },
      {
       "output_type": "stream",
       "stream": "stdout",
       "text": [
        " 200\n",
        "Response Status Code:"
       ]
      },
      {
       "output_type": "stream",
       "stream": "stdout",
       "text": [
        " 200\n",
        "Response Status Code:"
       ]
      },
      {
       "output_type": "stream",
       "stream": "stdout",
       "text": [
        " 200\n",
        "Response Status Code:"
       ]
      },
      {
       "output_type": "stream",
       "stream": "stdout",
       "text": [
        " 200\n",
        "Response Status Code:"
       ]
      },
      {
       "output_type": "stream",
       "stream": "stdout",
       "text": [
        " 200\n",
        "Response Status Code:"
       ]
      },
      {
       "output_type": "stream",
       "stream": "stdout",
       "text": [
        " 200\n",
        "Response Status Code:"
       ]
      },
      {
       "output_type": "stream",
       "stream": "stdout",
       "text": [
        " 200\n",
        "Response Status Code:"
       ]
      },
      {
       "output_type": "stream",
       "stream": "stdout",
       "text": [
        " 200\n",
        "Response Status Code:"
       ]
      },
      {
       "output_type": "stream",
       "stream": "stdout",
       "text": [
        " 200\n",
        "Response Status Code:"
       ]
      },
      {
       "output_type": "stream",
       "stream": "stdout",
       "text": [
        " 200\n",
        "Response Status Code:"
       ]
      },
      {
       "output_type": "stream",
       "stream": "stdout",
       "text": [
        " 200\n",
        "Response Status Code:"
       ]
      },
      {
       "output_type": "stream",
       "stream": "stdout",
       "text": [
        " 200\n",
        "Response Status Code:"
       ]
      },
      {
       "output_type": "stream",
       "stream": "stdout",
       "text": [
        " 200\n",
        "Response Status Code:"
       ]
      },
      {
       "output_type": "stream",
       "stream": "stdout",
       "text": [
        " 200\n",
        "Response Status Code:"
       ]
      },
      {
       "output_type": "stream",
       "stream": "stdout",
       "text": [
        " 200\n",
        "Response Status Code:"
       ]
      },
      {
       "output_type": "stream",
       "stream": "stdout",
       "text": [
        " 200\n",
        "Response Status Code:"
       ]
      },
      {
       "output_type": "stream",
       "stream": "stdout",
       "text": [
        " 200\n",
        "Response Status Code:"
       ]
      },
      {
       "output_type": "stream",
       "stream": "stdout",
       "text": [
        " 200\n",
        "Response Status Code:"
       ]
      },
      {
       "output_type": "stream",
       "stream": "stdout",
       "text": [
        " 200\n",
        "Response Status Code:"
       ]
      },
      {
       "output_type": "stream",
       "stream": "stdout",
       "text": [
        " 200\n",
        "Response Status Code:"
       ]
      },
      {
       "output_type": "stream",
       "stream": "stdout",
       "text": [
        " 200\n",
        "Response Status Code:"
       ]
      },
      {
       "output_type": "stream",
       "stream": "stdout",
       "text": [
        " 200\n",
        "Response Status Code:"
       ]
      },
      {
       "output_type": "stream",
       "stream": "stdout",
       "text": [
        " 200\n",
        "Response Status Code:"
       ]
      },
      {
       "output_type": "stream",
       "stream": "stdout",
       "text": [
        " 200\n",
        "Response Status Code:"
       ]
      },
      {
       "output_type": "stream",
       "stream": "stdout",
       "text": [
        " 200\n",
        "Response Status Code:"
       ]
      },
      {
       "output_type": "stream",
       "stream": "stdout",
       "text": [
        " 200\n",
        "Response Status Code:"
       ]
      },
      {
       "output_type": "stream",
       "stream": "stdout",
       "text": [
        " 200\n",
        "Response Status Code:"
       ]
      },
      {
       "output_type": "stream",
       "stream": "stdout",
       "text": [
        " 200\n",
        "Response Status Code:"
       ]
      },
      {
       "output_type": "stream",
       "stream": "stdout",
       "text": [
        " 200\n",
        "Response Status Code:"
       ]
      },
      {
       "output_type": "stream",
       "stream": "stdout",
       "text": [
        " 200\n",
        "Response Status Code:"
       ]
      },
      {
       "output_type": "stream",
       "stream": "stdout",
       "text": [
        " 200\n",
        "Response Status Code:"
       ]
      },
      {
       "output_type": "stream",
       "stream": "stdout",
       "text": [
        " 200\n",
        "Response Status Code:"
       ]
      },
      {
       "output_type": "stream",
       "stream": "stdout",
       "text": [
        " 200\n",
        "Response Status Code:"
       ]
      },
      {
       "output_type": "stream",
       "stream": "stdout",
       "text": [
        " 200\n",
        "Response Status Code:"
       ]
      },
      {
       "output_type": "stream",
       "stream": "stdout",
       "text": [
        " 200\n",
        "Response Status Code:"
       ]
      },
      {
       "output_type": "stream",
       "stream": "stdout",
       "text": [
        " 200\n",
        "Response Status Code:"
       ]
      },
      {
       "output_type": "stream",
       "stream": "stdout",
       "text": [
        " 200\n",
        "Response Status Code:"
       ]
      },
      {
       "output_type": "stream",
       "stream": "stdout",
       "text": [
        " 200\n",
        "Response Status Code:"
       ]
      },
      {
       "output_type": "stream",
       "stream": "stdout",
       "text": [
        " 200\n",
        "Response Status Code:"
       ]
      },
      {
       "output_type": "stream",
       "stream": "stdout",
       "text": [
        " 200\n",
        "Response Status Code:"
       ]
      },
      {
       "output_type": "stream",
       "stream": "stdout",
       "text": [
        " 200\n",
        "Response Status Code:"
       ]
      },
      {
       "output_type": "stream",
       "stream": "stdout",
       "text": [
        " 200\n",
        "Response Status Code:"
       ]
      },
      {
       "output_type": "stream",
       "stream": "stdout",
       "text": [
        " 200\n",
        "Response Status Code:"
       ]
      },
      {
       "output_type": "stream",
       "stream": "stdout",
       "text": [
        " 200\n",
        "Response Status Code:"
       ]
      },
      {
       "output_type": "stream",
       "stream": "stdout",
       "text": [
        " 200\n",
        "Response Status Code:"
       ]
      },
      {
       "output_type": "stream",
       "stream": "stdout",
       "text": [
        " 200\n",
        "Response Status Code:"
       ]
      },
      {
       "output_type": "stream",
       "stream": "stdout",
       "text": [
        " 200\n",
        "Response Status Code:"
       ]
      },
      {
       "output_type": "stream",
       "stream": "stdout",
       "text": [
        " 200\n",
        "Response Status Code:"
       ]
      },
      {
       "output_type": "stream",
       "stream": "stdout",
       "text": [
        " 200\n",
        "Response Status Code:"
       ]
      },
      {
       "output_type": "stream",
       "stream": "stdout",
       "text": [
        " 200\n",
        "Response Status Code:"
       ]
      },
      {
       "output_type": "stream",
       "stream": "stdout",
       "text": [
        " 200\n",
        "Response Status Code:"
       ]
      },
      {
       "output_type": "stream",
       "stream": "stdout",
       "text": [
        " 200\n",
        "Response Status Code:"
       ]
      },
      {
       "output_type": "stream",
       "stream": "stdout",
       "text": [
        " 200\n",
        "Response Status Code:"
       ]
      },
      {
       "output_type": "stream",
       "stream": "stdout",
       "text": [
        " 200\n",
        "Response Status Code:"
       ]
      },
      {
       "output_type": "stream",
       "stream": "stdout",
       "text": [
        " 200\n",
        "Response Status Code:"
       ]
      },
      {
       "output_type": "stream",
       "stream": "stdout",
       "text": [
        " 200\n",
        "Response Status Code:"
       ]
      },
      {
       "output_type": "stream",
       "stream": "stdout",
       "text": [
        " 200\n",
        "Response Status Code:"
       ]
      },
      {
       "output_type": "stream",
       "stream": "stdout",
       "text": [
        " 200\n",
        "Response Status Code:"
       ]
      },
      {
       "output_type": "stream",
       "stream": "stdout",
       "text": [
        " 200\n",
        "Response Status Code:"
       ]
      },
      {
       "output_type": "stream",
       "stream": "stdout",
       "text": [
        " 200\n",
        "Response Status Code:"
       ]
      },
      {
       "output_type": "stream",
       "stream": "stdout",
       "text": [
        " 200\n",
        "Response Status Code:"
       ]
      },
      {
       "output_type": "stream",
       "stream": "stdout",
       "text": [
        " 200\n",
        "Response Status Code:"
       ]
      },
      {
       "output_type": "stream",
       "stream": "stdout",
       "text": [
        " 200\n",
        "Response Status Code:"
       ]
      },
      {
       "output_type": "stream",
       "stream": "stdout",
       "text": [
        " 200\n",
        "Response Status Code:"
       ]
      },
      {
       "output_type": "stream",
       "stream": "stdout",
       "text": [
        " 200\n",
        "Response Status Code:"
       ]
      },
      {
       "output_type": "stream",
       "stream": "stdout",
       "text": [
        " 200\n",
        "Response Status Code:"
       ]
      },
      {
       "output_type": "stream",
       "stream": "stdout",
       "text": [
        " 200\n",
        "Response Status Code:"
       ]
      },
      {
       "output_type": "stream",
       "stream": "stdout",
       "text": [
        " 200\n",
        "Response Status Code:"
       ]
      },
      {
       "output_type": "stream",
       "stream": "stdout",
       "text": [
        " 200\n",
        "Response Status Code:"
       ]
      },
      {
       "output_type": "stream",
       "stream": "stdout",
       "text": [
        " 200\n",
        "Response Status Code:"
       ]
      },
      {
       "output_type": "stream",
       "stream": "stdout",
       "text": [
        " 200\n",
        "Response Status Code:"
       ]
      },
      {
       "output_type": "stream",
       "stream": "stdout",
       "text": [
        " 200\n",
        "Response Status Code:"
       ]
      },
      {
       "output_type": "stream",
       "stream": "stdout",
       "text": [
        " 200\n",
        "Response Status Code:"
       ]
      },
      {
       "output_type": "stream",
       "stream": "stdout",
       "text": [
        " 200\n",
        "Response Status Code:"
       ]
      },
      {
       "output_type": "stream",
       "stream": "stdout",
       "text": [
        " 200\n",
        "Response Status Code:"
       ]
      },
      {
       "output_type": "stream",
       "stream": "stdout",
       "text": [
        " 200\n",
        "Response Status Code:"
       ]
      },
      {
       "output_type": "stream",
       "stream": "stdout",
       "text": [
        " 200\n",
        "Response Status Code:"
       ]
      },
      {
       "output_type": "stream",
       "stream": "stdout",
       "text": [
        " 200\n",
        "Response Status Code:"
       ]
      },
      {
       "output_type": "stream",
       "stream": "stdout",
       "text": [
        " 200\n",
        "Response Status Code:"
       ]
      },
      {
       "output_type": "stream",
       "stream": "stdout",
       "text": [
        " 200\n",
        "Response Status Code:"
       ]
      },
      {
       "output_type": "stream",
       "stream": "stdout",
       "text": [
        " 200\n",
        "Response Status Code:"
       ]
      },
      {
       "output_type": "stream",
       "stream": "stdout",
       "text": [
        " 200\n",
        "Response Status Code:"
       ]
      },
      {
       "output_type": "stream",
       "stream": "stdout",
       "text": [
        " 200\n",
        "Response Status Code:"
       ]
      },
      {
       "output_type": "stream",
       "stream": "stdout",
       "text": [
        " 200\n",
        "Response Status Code:"
       ]
      },
      {
       "output_type": "stream",
       "stream": "stdout",
       "text": [
        " 200\n",
        "Response Status Code:"
       ]
      },
      {
       "output_type": "stream",
       "stream": "stdout",
       "text": [
        " 200\n",
        "Response Status Code:"
       ]
      },
      {
       "output_type": "stream",
       "stream": "stdout",
       "text": [
        " 200\n",
        "Response Status Code:"
       ]
      },
      {
       "output_type": "stream",
       "stream": "stdout",
       "text": [
        " 200\n",
        "Response Status Code:"
       ]
      },
      {
       "output_type": "stream",
       "stream": "stdout",
       "text": [
        " 200\n",
        "Response Status Code:"
       ]
      },
      {
       "output_type": "stream",
       "stream": "stdout",
       "text": [
        " 200\n",
        "Response Status Code:"
       ]
      },
      {
       "output_type": "stream",
       "stream": "stdout",
       "text": [
        " 200\n",
        "Response Status Code:"
       ]
      },
      {
       "output_type": "stream",
       "stream": "stdout",
       "text": [
        " 200\n",
        "Response Status Code:"
       ]
      },
      {
       "output_type": "stream",
       "stream": "stdout",
       "text": [
        " 200\n",
        "Response Status Code:"
       ]
      },
      {
       "output_type": "stream",
       "stream": "stdout",
       "text": [
        " 200\n",
        "Response Status Code:"
       ]
      },
      {
       "output_type": "stream",
       "stream": "stdout",
       "text": [
        " 200\n",
        "Response Status Code:"
       ]
      },
      {
       "output_type": "stream",
       "stream": "stdout",
       "text": [
        " 200\n",
        "Response Status Code:"
       ]
      },
      {
       "output_type": "stream",
       "stream": "stdout",
       "text": [
        " 200\n",
        "Response Status Code:"
       ]
      },
      {
       "output_type": "stream",
       "stream": "stdout",
       "text": [
        " 200\n",
        "Response Status Code:"
       ]
      },
      {
       "output_type": "stream",
       "stream": "stdout",
       "text": [
        " 200\n",
        "Response Status Code:"
       ]
      },
      {
       "output_type": "stream",
       "stream": "stdout",
       "text": [
        " 200\n",
        "Response Status Code:"
       ]
      },
      {
       "output_type": "stream",
       "stream": "stdout",
       "text": [
        " 200\n",
        "Response Status Code:"
       ]
      },
      {
       "output_type": "stream",
       "stream": "stdout",
       "text": [
        " 200\n",
        "Response Status Code:"
       ]
      },
      {
       "output_type": "stream",
       "stream": "stdout",
       "text": [
        " 200\n",
        "Response Status Code:"
       ]
      },
      {
       "output_type": "stream",
       "stream": "stdout",
       "text": [
        " 200\n",
        "Response Status Code:"
       ]
      },
      {
       "output_type": "stream",
       "stream": "stdout",
       "text": [
        " 200\n",
        "Response Status Code:"
       ]
      },
      {
       "output_type": "stream",
       "stream": "stdout",
       "text": [
        " 200\n",
        "Response Status Code:"
       ]
      },
      {
       "output_type": "stream",
       "stream": "stdout",
       "text": [
        " 200\n",
        "Response Status Code:"
       ]
      },
      {
       "output_type": "stream",
       "stream": "stdout",
       "text": [
        " 200\n",
        "Response Status Code:"
       ]
      },
      {
       "output_type": "stream",
       "stream": "stdout",
       "text": [
        " 200\n",
        "Response Status Code:"
       ]
      },
      {
       "output_type": "stream",
       "stream": "stdout",
       "text": [
        " 200\n",
        "Response Status Code:"
       ]
      },
      {
       "output_type": "stream",
       "stream": "stdout",
       "text": [
        " 200\n",
        "Response Status Code:"
       ]
      },
      {
       "output_type": "stream",
       "stream": "stdout",
       "text": [
        " 200\n",
        "Response Status Code:"
       ]
      },
      {
       "output_type": "stream",
       "stream": "stdout",
       "text": [
        " 200\n",
        "Response Status Code:"
       ]
      },
      {
       "output_type": "stream",
       "stream": "stdout",
       "text": [
        " 200\n",
        "Response Status Code:"
       ]
      },
      {
       "output_type": "stream",
       "stream": "stdout",
       "text": [
        " 200\n",
        "Response Status Code:"
       ]
      },
      {
       "output_type": "stream",
       "stream": "stdout",
       "text": [
        " 200\n",
        "Response Status Code:"
       ]
      },
      {
       "output_type": "stream",
       "stream": "stdout",
       "text": [
        " 200\n",
        "Response Status Code:"
       ]
      },
      {
       "output_type": "stream",
       "stream": "stdout",
       "text": [
        " 200\n",
        "Response Status Code:"
       ]
      },
      {
       "output_type": "stream",
       "stream": "stdout",
       "text": [
        " 200\n",
        "Response Status Code:"
       ]
      },
      {
       "output_type": "stream",
       "stream": "stdout",
       "text": [
        " 200\n",
        "Response Status Code:"
       ]
      },
      {
       "output_type": "stream",
       "stream": "stdout",
       "text": [
        " 200\n",
        "Response Status Code:"
       ]
      },
      {
       "output_type": "stream",
       "stream": "stdout",
       "text": [
        " 200\n",
        "Response Status Code:"
       ]
      },
      {
       "output_type": "stream",
       "stream": "stdout",
       "text": [
        " 200\n",
        "Response Status Code:"
       ]
      },
      {
       "output_type": "stream",
       "stream": "stdout",
       "text": [
        " 200\n",
        "Response Status Code:"
       ]
      },
      {
       "output_type": "stream",
       "stream": "stdout",
       "text": [
        " 200\n",
        "Response Status Code:"
       ]
      },
      {
       "output_type": "stream",
       "stream": "stdout",
       "text": [
        " 200\n",
        "Response Status Code:"
       ]
      },
      {
       "output_type": "stream",
       "stream": "stdout",
       "text": [
        " 200\n",
        "Response Status Code:"
       ]
      },
      {
       "output_type": "stream",
       "stream": "stdout",
       "text": [
        " 200\n",
        "Response Status Code:"
       ]
      },
      {
       "output_type": "stream",
       "stream": "stdout",
       "text": [
        " 200\n",
        "Response Status Code:"
       ]
      },
      {
       "output_type": "stream",
       "stream": "stdout",
       "text": [
        " 200\n",
        "Response Status Code:"
       ]
      },
      {
       "output_type": "stream",
       "stream": "stdout",
       "text": [
        " 200\n",
        "Response Status Code:"
       ]
      },
      {
       "output_type": "stream",
       "stream": "stdout",
       "text": [
        " 200\n",
        "Response Status Code:"
       ]
      },
      {
       "output_type": "stream",
       "stream": "stdout",
       "text": [
        " 200\n",
        "Response Status Code:"
       ]
      },
      {
       "output_type": "stream",
       "stream": "stdout",
       "text": [
        " 200\n",
        "Response Status Code:"
       ]
      },
      {
       "output_type": "stream",
       "stream": "stdout",
       "text": [
        " 200\n",
        "Response Status Code:"
       ]
      },
      {
       "output_type": "stream",
       "stream": "stdout",
       "text": [
        " 200\n",
        "Response Status Code:"
       ]
      },
      {
       "output_type": "stream",
       "stream": "stdout",
       "text": [
        " 200\n",
        "Response Status Code:"
       ]
      },
      {
       "output_type": "stream",
       "stream": "stdout",
       "text": [
        " 200\n",
        "Response Status Code:"
       ]
      },
      {
       "output_type": "stream",
       "stream": "stdout",
       "text": [
        " 200\n",
        "Response Status Code:"
       ]
      },
      {
       "output_type": "stream",
       "stream": "stdout",
       "text": [
        " 200\n",
        "Response Status Code:"
       ]
      },
      {
       "output_type": "stream",
       "stream": "stdout",
       "text": [
        " 200\n",
        "Response Status Code:"
       ]
      },
      {
       "output_type": "stream",
       "stream": "stdout",
       "text": [
        " 200\n",
        "Response Status Code:"
       ]
      },
      {
       "output_type": "stream",
       "stream": "stdout",
       "text": [
        " 200\n",
        "Response Status Code:"
       ]
      },
      {
       "output_type": "stream",
       "stream": "stdout",
       "text": [
        " 200\n",
        "Response Status Code:"
       ]
      },
      {
       "output_type": "stream",
       "stream": "stdout",
       "text": [
        " 200\n",
        "Response Status Code:"
       ]
      },
      {
       "output_type": "stream",
       "stream": "stdout",
       "text": [
        " 200\n",
        "Response Status Code:"
       ]
      },
      {
       "output_type": "stream",
       "stream": "stdout",
       "text": [
        " 200\n",
        "Response Status Code:"
       ]
      },
      {
       "output_type": "stream",
       "stream": "stdout",
       "text": [
        " 200\n",
        "Response Status Code:"
       ]
      },
      {
       "output_type": "stream",
       "stream": "stdout",
       "text": [
        " 200\n",
        "Response Status Code:"
       ]
      },
      {
       "output_type": "stream",
       "stream": "stdout",
       "text": [
        " 200\n",
        "Response Status Code:"
       ]
      },
      {
       "output_type": "stream",
       "stream": "stdout",
       "text": [
        " 200\n",
        "Response Status Code:"
       ]
      },
      {
       "output_type": "stream",
       "stream": "stdout",
       "text": [
        " 200\n",
        "Response Status Code:"
       ]
      },
      {
       "output_type": "stream",
       "stream": "stdout",
       "text": [
        " 200\n",
        "Response Status Code:"
       ]
      },
      {
       "output_type": "stream",
       "stream": "stdout",
       "text": [
        " 200\n",
        "Response Status Code:"
       ]
      },
      {
       "output_type": "stream",
       "stream": "stdout",
       "text": [
        " 200\n",
        "Response Status Code:"
       ]
      },
      {
       "output_type": "stream",
       "stream": "stdout",
       "text": [
        " 200\n",
        "Response Status Code:"
       ]
      },
      {
       "output_type": "stream",
       "stream": "stdout",
       "text": [
        " 200\n",
        "Response Status Code:"
       ]
      },
      {
       "output_type": "stream",
       "stream": "stdout",
       "text": [
        " 200\n",
        "Response Status Code:"
       ]
      },
      {
       "output_type": "stream",
       "stream": "stdout",
       "text": [
        " 200\n",
        "Response Status Code:"
       ]
      },
      {
       "output_type": "stream",
       "stream": "stdout",
       "text": [
        " 200\n",
        "Response Status Code:"
       ]
      },
      {
       "output_type": "stream",
       "stream": "stdout",
       "text": [
        " 200\n",
        "Response Status Code:"
       ]
      },
      {
       "output_type": "stream",
       "stream": "stdout",
       "text": [
        " 200\n",
        "Response Status Code:"
       ]
      },
      {
       "output_type": "stream",
       "stream": "stdout",
       "text": [
        " 200\n",
        "Response Status Code:"
       ]
      },
      {
       "output_type": "stream",
       "stream": "stdout",
       "text": [
        " 200\n",
        "Response Status Code:"
       ]
      },
      {
       "output_type": "stream",
       "stream": "stdout",
       "text": [
        " 200\n",
        "Response Status Code:"
       ]
      },
      {
       "output_type": "stream",
       "stream": "stdout",
       "text": [
        " 200\n",
        "Response Status Code:"
       ]
      },
      {
       "output_type": "stream",
       "stream": "stdout",
       "text": [
        " 200\n",
        "Response Status Code:"
       ]
      },
      {
       "output_type": "stream",
       "stream": "stdout",
       "text": [
        " 200\n",
        "Response Status Code:"
       ]
      },
      {
       "output_type": "stream",
       "stream": "stdout",
       "text": [
        " 200\n",
        "Response Status Code:"
       ]
      },
      {
       "output_type": "stream",
       "stream": "stdout",
       "text": [
        " 200\n",
        "Response Status Code:"
       ]
      },
      {
       "output_type": "stream",
       "stream": "stdout",
       "text": [
        " 200\n",
        "Response Status Code:"
       ]
      },
      {
       "output_type": "stream",
       "stream": "stdout",
       "text": [
        " 200\n",
        "Response Status Code:"
       ]
      },
      {
       "output_type": "stream",
       "stream": "stdout",
       "text": [
        " 200\n",
        "Response Status Code:"
       ]
      },
      {
       "output_type": "stream",
       "stream": "stdout",
       "text": [
        " 200\n",
        "Response Status Code:"
       ]
      },
      {
       "output_type": "stream",
       "stream": "stdout",
       "text": [
        " 200\n",
        "Response Status Code:"
       ]
      },
      {
       "output_type": "stream",
       "stream": "stdout",
       "text": [
        " 200\n",
        "Response Status Code:"
       ]
      },
      {
       "output_type": "stream",
       "stream": "stdout",
       "text": [
        " 200\n",
        "Response Status Code:"
       ]
      },
      {
       "output_type": "stream",
       "stream": "stdout",
       "text": [
        " 200\n",
        "Response Status Code:"
       ]
      },
      {
       "output_type": "stream",
       "stream": "stdout",
       "text": [
        " 200\n",
        "Response Status Code:"
       ]
      },
      {
       "output_type": "stream",
       "stream": "stdout",
       "text": [
        " 200\n",
        "Response Status Code:"
       ]
      },
      {
       "output_type": "stream",
       "stream": "stdout",
       "text": [
        " 200\n",
        "Response Status Code:"
       ]
      },
      {
       "output_type": "stream",
       "stream": "stdout",
       "text": [
        " 200\n",
        "Response Status Code:"
       ]
      },
      {
       "output_type": "stream",
       "stream": "stdout",
       "text": [
        " 200\n",
        "Response Status Code:"
       ]
      },
      {
       "output_type": "stream",
       "stream": "stdout",
       "text": [
        " 200\n",
        "Response Status Code:"
       ]
      },
      {
       "output_type": "stream",
       "stream": "stdout",
       "text": [
        " 200\n",
        "Response Status Code:"
       ]
      },
      {
       "output_type": "stream",
       "stream": "stdout",
       "text": [
        " 200\n",
        "Response Status Code:"
       ]
      },
      {
       "output_type": "stream",
       "stream": "stdout",
       "text": [
        " 200\n",
        "Response Status Code:"
       ]
      },
      {
       "output_type": "stream",
       "stream": "stdout",
       "text": [
        " 200\n",
        "Response Status Code:"
       ]
      },
      {
       "output_type": "stream",
       "stream": "stdout",
       "text": [
        " 200\n",
        "Response Status Code:"
       ]
      },
      {
       "output_type": "stream",
       "stream": "stdout",
       "text": [
        " 200\n",
        "Response Status Code:"
       ]
      },
      {
       "output_type": "stream",
       "stream": "stdout",
       "text": [
        " 200\n",
        "Response Status Code:"
       ]
      },
      {
       "output_type": "stream",
       "stream": "stdout",
       "text": [
        " 200\n",
        "Response Status Code:"
       ]
      },
      {
       "output_type": "stream",
       "stream": "stdout",
       "text": [
        " 200\n",
        "Response Status Code:"
       ]
      },
      {
       "output_type": "stream",
       "stream": "stdout",
       "text": [
        " 200\n",
        "Response Status Code:"
       ]
      },
      {
       "output_type": "stream",
       "stream": "stdout",
       "text": [
        " 200\n",
        "Response Status Code:"
       ]
      },
      {
       "output_type": "stream",
       "stream": "stdout",
       "text": [
        " 200\n",
        "Response Status Code:"
       ]
      },
      {
       "output_type": "stream",
       "stream": "stdout",
       "text": [
        " 200\n",
        "Response Status Code:"
       ]
      },
      {
       "output_type": "stream",
       "stream": "stdout",
       "text": [
        " 200\n",
        "Response Status Code:"
       ]
      },
      {
       "output_type": "stream",
       "stream": "stdout",
       "text": [
        " 200\n",
        "Response Status Code:"
       ]
      },
      {
       "output_type": "stream",
       "stream": "stdout",
       "text": [
        " 200\n",
        "Response Status Code:"
       ]
      },
      {
       "output_type": "stream",
       "stream": "stdout",
       "text": [
        " 200\n",
        "Response Status Code:"
       ]
      },
      {
       "output_type": "stream",
       "stream": "stdout",
       "text": [
        " 200\n",
        "Response Status Code:"
       ]
      },
      {
       "output_type": "stream",
       "stream": "stdout",
       "text": [
        " 200\n",
        "Response Status Code:"
       ]
      },
      {
       "output_type": "stream",
       "stream": "stdout",
       "text": [
        " 200\n",
        "Response Status Code:"
       ]
      },
      {
       "output_type": "stream",
       "stream": "stdout",
       "text": [
        " 200\n",
        "Response Status Code:"
       ]
      },
      {
       "output_type": "stream",
       "stream": "stdout",
       "text": [
        " 200\n",
        "Response Status Code:"
       ]
      },
      {
       "output_type": "stream",
       "stream": "stdout",
       "text": [
        " 200\n",
        "Response Status Code:"
       ]
      },
      {
       "output_type": "stream",
       "stream": "stdout",
       "text": [
        " 200\n",
        "Response Status Code:"
       ]
      },
      {
       "output_type": "stream",
       "stream": "stdout",
       "text": [
        " 200\n",
        "Response Status Code:"
       ]
      },
      {
       "output_type": "stream",
       "stream": "stdout",
       "text": [
        " 200\n",
        "Response Status Code:"
       ]
      },
      {
       "output_type": "stream",
       "stream": "stdout",
       "text": [
        " 200\n",
        "Response Status Code:"
       ]
      },
      {
       "output_type": "stream",
       "stream": "stdout",
       "text": [
        " 200\n",
        "Response Status Code:"
       ]
      },
      {
       "output_type": "stream",
       "stream": "stdout",
       "text": [
        " 200\n",
        "Response Status Code:"
       ]
      },
      {
       "output_type": "stream",
       "stream": "stdout",
       "text": [
        " 200\n",
        "Response Status Code:"
       ]
      },
      {
       "output_type": "stream",
       "stream": "stdout",
       "text": [
        " 200\n",
        "Response Status Code:"
       ]
      },
      {
       "output_type": "stream",
       "stream": "stdout",
       "text": [
        " 200\n",
        "Response Status Code:"
       ]
      },
      {
       "output_type": "stream",
       "stream": "stdout",
       "text": [
        " 200\n",
        "Response Status Code:"
       ]
      },
      {
       "output_type": "stream",
       "stream": "stdout",
       "text": [
        " 200\n",
        "Response Status Code:"
       ]
      },
      {
       "output_type": "stream",
       "stream": "stdout",
       "text": [
        " 200\n",
        "Response Status Code:"
       ]
      },
      {
       "output_type": "stream",
       "stream": "stdout",
       "text": [
        " 200\n",
        "Response Status Code:"
       ]
      },
      {
       "output_type": "stream",
       "stream": "stdout",
       "text": [
        " 200\n",
        "Response Status Code:"
       ]
      },
      {
       "output_type": "stream",
       "stream": "stdout",
       "text": [
        " 200\n",
        "Response Status Code:"
       ]
      },
      {
       "output_type": "stream",
       "stream": "stdout",
       "text": [
        " 200\n",
        "Response Status Code:"
       ]
      },
      {
       "output_type": "stream",
       "stream": "stdout",
       "text": [
        " 200\n",
        "Response Status Code:"
       ]
      },
      {
       "output_type": "stream",
       "stream": "stdout",
       "text": [
        " 200\n",
        "Response Status Code:"
       ]
      },
      {
       "output_type": "stream",
       "stream": "stdout",
       "text": [
        " 200\n",
        "Response Status Code:"
       ]
      },
      {
       "output_type": "stream",
       "stream": "stdout",
       "text": [
        " 200\n",
        "Response Status Code:"
       ]
      },
      {
       "output_type": "stream",
       "stream": "stdout",
       "text": [
        " 200\n",
        "Response Status Code:"
       ]
      },
      {
       "output_type": "stream",
       "stream": "stdout",
       "text": [
        " 200\n",
        "Response Status Code:"
       ]
      },
      {
       "output_type": "stream",
       "stream": "stdout",
       "text": [
        " 200\n",
        "Response Status Code:"
       ]
      },
      {
       "output_type": "stream",
       "stream": "stdout",
       "text": [
        " 200\n",
        "Response Status Code:"
       ]
      },
      {
       "output_type": "stream",
       "stream": "stdout",
       "text": [
        " 200\n",
        "Response Status Code:"
       ]
      },
      {
       "output_type": "stream",
       "stream": "stdout",
       "text": [
        " 200\n",
        "Response Status Code:"
       ]
      },
      {
       "output_type": "stream",
       "stream": "stdout",
       "text": [
        " 200\n",
        "Response Status Code:"
       ]
      },
      {
       "output_type": "stream",
       "stream": "stdout",
       "text": [
        " 200\n",
        "Response Status Code:"
       ]
      },
      {
       "output_type": "stream",
       "stream": "stdout",
       "text": [
        " 200\n",
        "Response Status Code:"
       ]
      },
      {
       "output_type": "stream",
       "stream": "stdout",
       "text": [
        " 200\n",
        "Response Status Code:"
       ]
      },
      {
       "output_type": "stream",
       "stream": "stdout",
       "text": [
        " 200\n",
        "Successfully obtained OAG response for 2088 of 2110 articles"
       ]
      },
      {
       "output_type": "stream",
       "stream": "stdout",
       "text": [
        "\n"
       ]
      }
     ],
     "prompt_number": 18
    },
    {
     "cell_type": "code",
     "collapsed": false,
     "input": [
      "[article.get('license')[0].get('type') for article in req.response if (article.get('license')[0].get('type') != 'failed-to-obtain-license')]"
     ],
     "language": "python",
     "metadata": {},
     "outputs": [
      {
       "metadata": {},
       "output_type": "pyout",
       "prompt_number": 19,
       "text": [
        "[u'free-to-read',\n",
        " u'free-to-read',\n",
        " u'free-to-read',\n",
        " u'free-to-read',\n",
        " u'free-to-read',\n",
        " u'free-to-read',\n",
        " u'free-to-read',\n",
        " u'free-to-read',\n",
        " u'free-to-read',\n",
        " u'free-to-read',\n",
        " u'free-to-read',\n",
        " u'free-to-read',\n",
        " u'free-to-read',\n",
        " u'free-to-read',\n",
        " u'free-to-read',\n",
        " u'free-to-read',\n",
        " u'free-to-read',\n",
        " u'free-to-read',\n",
        " u'free-to-read',\n",
        " u'free-to-read',\n",
        " u'free-to-read',\n",
        " u'free-to-read',\n",
        " u'free-to-read',\n",
        " u'free-to-read',\n",
        " u'free-to-read',\n",
        " u'free-to-read',\n",
        " u'free-to-read',\n",
        " u'free-to-read',\n",
        " u'free-to-read',\n",
        " u'free-to-read',\n",
        " u'free-to-read',\n",
        " u'free-to-read',\n",
        " u'free-to-read',\n",
        " u'free-to-read',\n",
        " u'free-to-read',\n",
        " u'cc-by',\n",
        " u'cc-by',\n",
        " u'cc-by',\n",
        " u'cc-nc',\n",
        " u'cc-nc',\n",
        " u'cc-nc',\n",
        " u'cc-nc',\n",
        " u'cc-nc',\n",
        " u'cc-nc',\n",
        " u'cc-nc',\n",
        " u'cc-by',\n",
        " u'cc-nc',\n",
        " u'cc-nc',\n",
        " u'cc-by',\n",
        " u'cc-by',\n",
        " u'cc-by',\n",
        " u'cc-nc',\n",
        " u'cc-nc',\n",
        " u'cc-nc',\n",
        " u'cc-nc',\n",
        " u'cc-by',\n",
        " u'cc-nc',\n",
        " u'cc-nc',\n",
        " u'cc-nc',\n",
        " u'cc-nc',\n",
        " u'cc-by',\n",
        " u'cc-by',\n",
        " u'cc-by',\n",
        " u'cc-by',\n",
        " u'cc-nc',\n",
        " u'cc-nc',\n",
        " u'cc-nc',\n",
        " u'cc-nc',\n",
        " u'cc-by',\n",
        " u'cc-by',\n",
        " u'cc-by',\n",
        " u'cc-nc',\n",
        " u'cc-nc',\n",
        " u'cc-nc',\n",
        " u'cc-nc',\n",
        " u'cc-nc',\n",
        " u'cc-nc',\n",
        " u'cc-nc',\n",
        " u'cc-by',\n",
        " u'cc-nc',\n",
        " u'cc-by',\n",
        " u'cc-by',\n",
        " u'cc-by',\n",
        " u'cc-nc',\n",
        " u'cc-nc',\n",
        " u'cc-nc',\n",
        " u'cc-nc',\n",
        " u'cc-nc',\n",
        " u'cc-nc',\n",
        " u'cc-nc',\n",
        " u'cc-by',\n",
        " u'cc-nc',\n",
        " u'cc-nc',\n",
        " u'cc-nc',\n",
        " u'cc-by',\n",
        " u'cc-nc',\n",
        " u'cc-by',\n",
        " u'cc-by',\n",
        " u'cc-nc',\n",
        " u'cc-nc',\n",
        " u'cc-nc',\n",
        " u'cc-nc',\n",
        " u'cc-by',\n",
        " u'cc-nc',\n",
        " u'cc-nc',\n",
        " u'cc-nc',\n",
        " u'cc-by',\n",
        " u'cc-nc',\n",
        " u'cc-nc',\n",
        " u'free-to-read',\n",
        " u'free-to-read',\n",
        " u'free-to-read',\n",
        " u'cc-by',\n",
        " u'free-to-read',\n",
        " u'free-to-read',\n",
        " u'cc-by',\n",
        " u'free-to-read',\n",
        " u'cc-by',\n",
        " u'cc-by',\n",
        " u'free-to-read',\n",
        " u'free-to-read',\n",
        " u'cc-by',\n",
        " u'free-to-read',\n",
        " u'cc-by',\n",
        " u'free-to-read',\n",
        " u'cc-by',\n",
        " u'free-to-read',\n",
        " u'free-to-read',\n",
        " u'cc-by',\n",
        " u'cc-by',\n",
        " u'cc-by',\n",
        " u'free-to-read',\n",
        " u'cc-by',\n",
        " u'free-to-read',\n",
        " u'cc-by',\n",
        " u'cc-by',\n",
        " u'free-to-read',\n",
        " u'cc-by',\n",
        " u'free-to-read',\n",
        " u'free-to-read',\n",
        " u'cc-nc-sa',\n",
        " u'free-to-read',\n",
        " u'cc-by',\n",
        " u'cc-by',\n",
        " u'cc-by',\n",
        " u'cc-by',\n",
        " u'cc-by',\n",
        " u'cc-by',\n",
        " u'cc-by',\n",
        " u'cc-by',\n",
        " u'cc-by',\n",
        " u'cc-by',\n",
        " u'cc-by',\n",
        " u'cc-by',\n",
        " u'cc-by',\n",
        " u'cc-by',\n",
        " u'cc-by',\n",
        " u'cc-by',\n",
        " u'cc-by',\n",
        " u'cc-by',\n",
        " u'cc-by',\n",
        " u'cc-by',\n",
        " u'cc-by',\n",
        " u'cc-by',\n",
        " u'cc-by',\n",
        " u'cc-by',\n",
        " u'cc-by',\n",
        " u'cc-by',\n",
        " u'cc-by',\n",
        " u'cc-by',\n",
        " u'cc-by',\n",
        " u'cc-by',\n",
        " u'cc-by',\n",
        " u'cc-by',\n",
        " u'cc-by',\n",
        " u'cc-by',\n",
        " u'cc-by',\n",
        " u'cc-by',\n",
        " u'cc-by',\n",
        " u'cc-by',\n",
        " u'cc-by',\n",
        " u'cc-by',\n",
        " u'cc-by',\n",
        " u'cc-by',\n",
        " u'cc-by',\n",
        " u'cc-by',\n",
        " u'cc-by',\n",
        " u'cc-by',\n",
        " u'cc-by',\n",
        " u'cc-by',\n",
        " u'cc-by',\n",
        " u'cc-by',\n",
        " u'cc-by',\n",
        " u'cc-by',\n",
        " u'cc-nc',\n",
        " u'cc-by',\n",
        " u'cc-by',\n",
        " u'cc-by',\n",
        " u'cc-by',\n",
        " u'cc-by',\n",
        " u'free-to-read',\n",
        " u'cc-by',\n",
        " u'cc-by',\n",
        " u'cc-by',\n",
        " u'cc-by',\n",
        " u'cc-by',\n",
        " u'cc-by',\n",
        " u'cc-by',\n",
        " u'cc-by',\n",
        " u'cc-by',\n",
        " u'cc-by',\n",
        " u'cc-by',\n",
        " u'cc-by',\n",
        " u'cc-by',\n",
        " u'cc-by',\n",
        " u'cc-by',\n",
        " u'cc-by',\n",
        " u'cc-by',\n",
        " u'cc-by',\n",
        " u'cc-by',\n",
        " u'cc-by',\n",
        " u'cc-by',\n",
        " u'cc-by',\n",
        " u'cc-by',\n",
        " u'cc-by',\n",
        " u'cc-by',\n",
        " u'cc-by',\n",
        " u'cc-by',\n",
        " u'cc-by',\n",
        " u'cc-by',\n",
        " u'cc-nc',\n",
        " u'cc-nc',\n",
        " u'cc-nc',\n",
        " u'cc-nc',\n",
        " u'cc-nc',\n",
        " u'cc-nc',\n",
        " u'cc-nc',\n",
        " u'cc-nc',\n",
        " u'cc-by',\n",
        " u'cc-nc',\n",
        " u'cc-nc',\n",
        " u'cc-by',\n",
        " u'cc-by',\n",
        " u'cc-nc',\n",
        " u'cc-nc',\n",
        " u'cc-nc',\n",
        " u'cc-nc',\n",
        " u'cc-nc',\n",
        " u'cc-by',\n",
        " u'cc-by',\n",
        " u'cc-nc',\n",
        " u'cc-nc',\n",
        " u'cc-nc',\n",
        " u'cc-nc',\n",
        " u'cc-nc',\n",
        " u'cc-by',\n",
        " u'cc-nc',\n",
        " u'cc-nc',\n",
        " u'cc-nc',\n",
        " u'cc-nc',\n",
        " u'cc-nc-sa',\n",
        " u'cc-by',\n",
        " u'free-to-read',\n",
        " u'free-to-read',\n",
        " u'free-to-read',\n",
        " u'cc-by',\n",
        " u'cc-by',\n",
        " u'free-to-read',\n",
        " u'free-to-read',\n",
        " u'cc-by',\n",
        " u'cc-by',\n",
        " u'free-to-read',\n",
        " u'free-to-read',\n",
        " u'cc-by',\n",
        " u'free-to-read',\n",
        " u'free-to-read',\n",
        " u'free-to-read',\n",
        " u'free-to-read',\n",
        " u'cc-by',\n",
        " u'free-to-read',\n",
        " u'free-to-read',\n",
        " u'free-to-read',\n",
        " u'free-to-read',\n",
        " u'free-to-read',\n",
        " u'free-to-read',\n",
        " u'free-to-read',\n",
        " u'free-to-read',\n",
        " u'free-to-read',\n",
        " u'cc-by',\n",
        " u'free-to-read',\n",
        " u'free-to-read',\n",
        " u'free-to-read',\n",
        " u'free-to-read',\n",
        " u'free-to-read',\n",
        " u'free-to-read',\n",
        " u'free-to-read',\n",
        " u'cc-by-nc-nd',\n",
        " u'cc-by',\n",
        " u'cc-by-nc-nd',\n",
        " u'free-to-read',\n",
        " u'free-to-read',\n",
        " u'cc-by',\n",
        " u'cc-by',\n",
        " u'cc-by',\n",
        " u'free-to-read',\n",
        " u'free-to-read',\n",
        " u'free-to-read',\n",
        " u'cc-by',\n",
        " u'free-to-read',\n",
        " u'free-to-read',\n",
        " u'cc-by',\n",
        " u'free-to-read',\n",
        " u'free-to-read',\n",
        " u'free-to-read',\n",
        " u'cc-by',\n",
        " u'free-to-read',\n",
        " u'free-to-read',\n",
        " u'cc-by',\n",
        " u'free-to-read',\n",
        " u'free-to-read',\n",
        " u'free-to-read',\n",
        " u'cc-by-nc-nd',\n",
        " u'free-to-read',\n",
        " u'cc-by',\n",
        " u'free-to-read',\n",
        " u'cc-by',\n",
        " u'cc-by',\n",
        " u'free-to-read',\n",
        " u'free-to-read',\n",
        " u'free-to-read',\n",
        " u'free-to-read',\n",
        " u'free-to-read',\n",
        " u'free-to-read',\n",
        " u'free-to-read',\n",
        " u'free-to-read',\n",
        " u'free-to-read',\n",
        " u'free-to-read',\n",
        " u'free-to-read',\n",
        " u'free-to-read',\n",
        " u'free-to-read',\n",
        " u'free-to-read',\n",
        " u'cc-by',\n",
        " u'free-to-read',\n",
        " u'free-to-read',\n",
        " u'free-to-read',\n",
        " u'cc-by-nc-nd',\n",
        " u'free-to-read',\n",
        " u'free-to-read',\n",
        " u'free-to-read',\n",
        " u'cc-by',\n",
        " u'cc-by',\n",
        " u'free-to-read',\n",
        " u'free-to-read',\n",
        " u'free-to-read',\n",
        " u'free-to-read',\n",
        " u'free-to-read',\n",
        " u'free-to-read',\n",
        " u'free-to-read',\n",
        " u'cc-by',\n",
        " u'free-to-read',\n",
        " u'cc-by',\n",
        " u'free-to-read',\n",
        " u'free-to-read',\n",
        " u'cc-nc-sa',\n",
        " u'free-to-read',\n",
        " u'free-to-read',\n",
        " u'free-to-read',\n",
        " u'free-to-read',\n",
        " u'free-to-read',\n",
        " u'free-to-read',\n",
        " u'free-to-read',\n",
        " u'free-to-read',\n",
        " u'free-to-read',\n",
        " u'free-to-read',\n",
        " u'free-to-read',\n",
        " u'free-to-read',\n",
        " u'free-to-read',\n",
        " u'free-to-read',\n",
        " u'free-to-read',\n",
        " u'cc-by',\n",
        " u'cc-by',\n",
        " u'free-to-read',\n",
        " u'free-to-read',\n",
        " u'free-to-read',\n",
        " u'cc-by',\n",
        " u'free-to-read',\n",
        " u'free-to-read',\n",
        " u'cc-by-nc-nd',\n",
        " u'free-to-read',\n",
        " u'free-to-read',\n",
        " u'cc-by',\n",
        " u'free-to-read',\n",
        " u'free-to-read',\n",
        " u'cc-by',\n",
        " u'free-to-read',\n",
        " u'cc-by',\n",
        " u'cc-by',\n",
        " u'cc-by-nc-nd',\n",
        " u'cc-by',\n",
        " u'cc-by',\n",
        " u'cc-by',\n",
        " u'cc-by',\n",
        " u'free-to-read',\n",
        " u'free-to-read',\n",
        " u'free-to-read',\n",
        " u'free-to-read',\n",
        " u'free-to-read',\n",
        " u'free-to-read',\n",
        " u'free-to-read',\n",
        " u'free-to-read',\n",
        " u'free-to-read',\n",
        " u'free-to-read',\n",
        " u'free-to-read',\n",
        " u'free-to-read',\n",
        " u'free-to-read',\n",
        " u'free-to-read',\n",
        " u'free-to-read',\n",
        " u'free-to-read',\n",
        " u'free-to-read',\n",
        " u'free-to-read',\n",
        " u'free-to-read',\n",
        " u'free-to-read',\n",
        " u'free-to-read',\n",
        " u'free-to-read',\n",
        " u'cc-by',\n",
        " u'cc-by',\n",
        " u'free-to-read',\n",
        " u'cc-by-nc-sa',\n",
        " u'cc-by-nc-nd',\n",
        " u'free-to-read',\n",
        " u'free-to-read',\n",
        " u'free-to-read',\n",
        " u'free-to-read',\n",
        " u'cc-by',\n",
        " u'cc-by',\n",
        " u'cc-by',\n",
        " u'cc-by',\n",
        " u'free-to-read',\n",
        " u'free-to-read',\n",
        " u'free-to-read',\n",
        " u'free-to-read',\n",
        " u'free-to-read',\n",
        " u'free-to-read',\n",
        " u'free-to-read',\n",
        " u'free-to-read',\n",
        " u'free-to-read',\n",
        " u'free-to-read',\n",
        " u'free-to-read',\n",
        " u'cc-by',\n",
        " u'cc-by',\n",
        " u'free-to-read',\n",
        " u'free-to-read',\n",
        " u'free-to-read',\n",
        " u'cc-by',\n",
        " u'free-to-read',\n",
        " u'free-to-read',\n",
        " u'free-to-read',\n",
        " u'free-to-read',\n",
        " u'free-to-read',\n",
        " u'free-to-read',\n",
        " u'free-to-read',\n",
        " u'free-to-read',\n",
        " u'free-to-read',\n",
        " u'free-to-read',\n",
        " u'cc-by',\n",
        " u'cc-by',\n",
        " u'cc-by',\n",
        " u'cc-by',\n",
        " u'cc-by-nc-nd',\n",
        " u'free-to-read',\n",
        " u'free-to-read',\n",
        " u'free-to-read',\n",
        " u'free-to-read',\n",
        " u'cc-by',\n",
        " u'free-to-read',\n",
        " u'cc-by',\n",
        " u'free-to-read',\n",
        " u'cc-nc',\n",
        " u'cc-nc',\n",
        " u'cc-nc',\n",
        " u'cc-nc',\n",
        " u'cc-nc',\n",
        " u'cc-nc',\n",
        " u'cc-nc',\n",
        " u'cc-nc',\n",
        " u'cc-by',\n",
        " u'cc-by',\n",
        " u'cc-by',\n",
        " u'cc-by',\n",
        " u'cc-by',\n",
        " u'cc-by',\n",
        " u'cc-by',\n",
        " u'cc-by',\n",
        " u'cc-by',\n",
        " u'cc-by',\n",
        " u'cc-by',\n",
        " u'cc-by',\n",
        " u'cc-by',\n",
        " u'cc-by',\n",
        " u'cc-by',\n",
        " u'cc-by',\n",
        " u'cc-by',\n",
        " u'cc-by',\n",
        " u'cc-by',\n",
        " u'cc-by',\n",
        " u'cc-by',\n",
        " u'cc-by',\n",
        " u'cc-by',\n",
        " u'cc-by',\n",
        " u'cc-by',\n",
        " u'cc-by',\n",
        " u'cc-by',\n",
        " u'cc-by',\n",
        " u'cc-by',\n",
        " u'cc-by',\n",
        " u'cc-by',\n",
        " u'cc-by',\n",
        " u'cc-by',\n",
        " u'cc-by',\n",
        " u'cc-by',\n",
        " u'cc-by',\n",
        " u'cc-by',\n",
        " u'free-to-read',\n",
        " u'cc-by',\n",
        " u'cc-by',\n",
        " u'cc-by',\n",
        " u'cc-by',\n",
        " u'cc-by',\n",
        " u'cc-by',\n",
        " u'cc-by',\n",
        " u'cc-by',\n",
        " u'cc-by',\n",
        " u'cc-by',\n",
        " u'cc-by',\n",
        " u'free-to-read',\n",
        " u'free-to-read',\n",
        " u'free-to-read',\n",
        " u'free-to-read',\n",
        " u'free-to-read',\n",
        " u'free-to-read',\n",
        " u'free-to-read',\n",
        " u'free-to-read',\n",
        " u'free-to-read',\n",
        " u'free-to-read',\n",
        " u'free-to-read',\n",
        " u'free-to-read',\n",
        " u'free-to-read',\n",
        " u'free-to-read',\n",
        " u'free-to-read',\n",
        " u'free-to-read',\n",
        " u'free-to-read',\n",
        " u'free-to-read',\n",
        " u'free-to-read',\n",
        " u'free-to-read',\n",
        " u'free-to-read',\n",
        " u'free-to-read',\n",
        " u'free-to-read',\n",
        " u'free-to-read',\n",
        " u'free-to-read',\n",
        " u'free-to-read',\n",
        " u'free-to-read',\n",
        " u'free-to-read',\n",
        " u'free-to-read',\n",
        " u'free-to-read',\n",
        " u'free-to-read',\n",
        " u'free-to-read',\n",
        " u'free-to-read',\n",
        " u'free-to-read',\n",
        " u'free-to-read',\n",
        " u'free-to-read',\n",
        " u'free-to-read',\n",
        " u'cc-nc-nd',\n",
        " u'cc-nc-nd',\n",
        " u'cc-by',\n",
        " u'cc-nc-nd',\n",
        " u'cc-by',\n",
        " u'cc-by',\n",
        " u'cc-by',\n",
        " u'cc-by',\n",
        " u'cc-by',\n",
        " u'cc-nc-nd',\n",
        " u'cc-nc-nd',\n",
        " u'cc-by',\n",
        " u'cc-by',\n",
        " u'cc-nc-sa',\n",
        " u'cc-by',\n",
        " u'cc-nc-nd',\n",
        " u'cc-nc-nd',\n",
        " u'cc-by',\n",
        " u'cc-nc-nd',\n",
        " u'cc-nc-nd',\n",
        " u'cc-nc-nd',\n",
        " u'cc-by',\n",
        " u'cc-nc-sa',\n",
        " u'cc-by',\n",
        " u'cc-nc-nd',\n",
        " u'cc-nc-sa',\n",
        " u'cc-nc-sa',\n",
        " u'cc-nc-nd',\n",
        " u'cc-nc-sa',\n",
        " u'cc-nc-nd',\n",
        " u'cc-nc-nd',\n",
        " u'cc-nc-sa',\n",
        " u'cc-nc-sa',\n",
        " u'cc-by',\n",
        " u'cc-nc-nd',\n",
        " u'cc-by',\n",
        " u'cc-by',\n",
        " u'cc-nc-sa',\n",
        " u'cc-nc-nd',\n",
        " u'cc-nc-sa',\n",
        " u'cc-nc-nd',\n",
        " u'cc-nc-sa',\n",
        " u'cc-nc-sa',\n",
        " u'cc-by',\n",
        " u'cc-by',\n",
        " u'cc-nc-nd',\n",
        " u'cc-nc-nd',\n",
        " u'cc-nc-sa',\n",
        " u'cc-by',\n",
        " u'cc-nc-nd',\n",
        " u'cc-by',\n",
        " u'cc-by',\n",
        " u'cc-by',\n",
        " u'cc-nc',\n",
        " u'cc-nc',\n",
        " u'cc-by',\n",
        " u'cc-by',\n",
        " u'cc-by',\n",
        " u'cc-by',\n",
        " u'cc-by',\n",
        " u'cc-by',\n",
        " u'cc-nc',\n",
        " u'cc-by',\n",
        " u'cc-by',\n",
        " u'cc-by',\n",
        " u'cc-nc',\n",
        " u'cc-by',\n",
        " u'cc-by',\n",
        " u'cc-by',\n",
        " u'cc-by',\n",
        " u'cc-by',\n",
        " u'cc-nc',\n",
        " u'cc-nc',\n",
        " u'cc-by',\n",
        " u'cc-nc',\n",
        " u'cc-by',\n",
        " u'cc-nc',\n",
        " u'cc-by',\n",
        " u'cc-nc',\n",
        " u'cc-nc',\n",
        " u'cc-by',\n",
        " u'cc-nc',\n",
        " u'cc-by',\n",
        " u'cc-by',\n",
        " u'cc-by',\n",
        " u'cc-by',\n",
        " u'cc-by',\n",
        " u'cc-by',\n",
        " u'cc-by',\n",
        " u'cc-nc',\n",
        " u'cc-by',\n",
        " u'cc-by',\n",
        " u'cc-by',\n",
        " u'cc-by',\n",
        " u'cc-nc',\n",
        " u'cc-by',\n",
        " u'cc-by',\n",
        " u'cc-by',\n",
        " u'cc-by',\n",
        " u'cc-by',\n",
        " u'cc-by',\n",
        " u'cc-by',\n",
        " u'cc-nc',\n",
        " u'cc-by',\n",
        " u'cc-by',\n",
        " u'cc-by',\n",
        " u'cc-by',\n",
        " u'cc-by',\n",
        " u'cc-nc',\n",
        " u'cc-nc',\n",
        " u'cc-nc',\n",
        " u'cc-nc',\n",
        " u'cc-nc',\n",
        " u'cc-nc',\n",
        " u'cc-nc',\n",
        " u'cc-nc',\n",
        " u'cc-nc',\n",
        " u'cc-nc',\n",
        " u'cc-nc',\n",
        " u'cc-nc',\n",
        " u'cc-by',\n",
        " u'cc-by',\n",
        " u'cc-nc',\n",
        " u'cc-nc',\n",
        " u'cc-nc',\n",
        " u'cc-nc',\n",
        " u'cc-by',\n",
        " u'cc-by',\n",
        " u'cc-nc',\n",
        " u'cc-by',\n",
        " u'cc-by',\n",
        " u'cc-by',\n",
        " u'cc-nc',\n",
        " u'cc-nc',\n",
        " u'cc-nc',\n",
        " u'cc-by',\n",
        " u'cc-nc',\n",
        " u'cc-nc',\n",
        " u'cc-by',\n",
        " u'cc-by',\n",
        " u'cc-by',\n",
        " u'cc-by',\n",
        " u'cc-by',\n",
        " u'cc-by',\n",
        " u'cc-by',\n",
        " u'cc-by',\n",
        " u'cc-by',\n",
        " u'cc-by',\n",
        " u'cc-by',\n",
        " u'cc-by',\n",
        " u'cc-zero',\n",
        " u'cc-by',\n",
        " u'cc-by',\n",
        " u'cc-by',\n",
        " u'cc-by',\n",
        " u'cc-by',\n",
        " u'cc-by',\n",
        " u'cc-by',\n",
        " u'cc-by',\n",
        " u'cc-by',\n",
        " u'cc-zero',\n",
        " u'cc-by',\n",
        " u'cc-by',\n",
        " u'cc-by',\n",
        " u'cc-by',\n",
        " u'cc-by',\n",
        " u'cc-by',\n",
        " u'cc-by',\n",
        " u'cc-by',\n",
        " u'cc-by',\n",
        " u'cc-by',\n",
        " u'cc-by',\n",
        " u'cc-by',\n",
        " u'cc-by',\n",
        " u'cc-by',\n",
        " u'cc-by',\n",
        " u'cc-by',\n",
        " u'cc-by',\n",
        " u'cc-by',\n",
        " u'cc-by',\n",
        " u'cc-by',\n",
        " u'cc-by',\n",
        " u'cc-by',\n",
        " u'cc-by',\n",
        " u'cc-by',\n",
        " u'cc-by',\n",
        " u'cc-by',\n",
        " u'cc-by',\n",
        " u'cc-by',\n",
        " u'cc-by',\n",
        " u'cc-by',\n",
        " u'cc-zero',\n",
        " u'cc-by',\n",
        " u'cc-by',\n",
        " u'cc-zero',\n",
        " u'cc-by',\n",
        " u'cc-by',\n",
        " u'cc-by',\n",
        " u'cc-by',\n",
        " u'cc-by',\n",
        " u'cc-by',\n",
        " u'cc-by',\n",
        " u'cc-by',\n",
        " u'cc-by',\n",
        " u'cc-by',\n",
        " u'cc-by',\n",
        " u'cc-by',\n",
        " u'cc-zero',\n",
        " u'cc-by',\n",
        " u'cc-by',\n",
        " u'cc-by',\n",
        " u'cc-by',\n",
        " u'cc-by',\n",
        " u'cc-by',\n",
        " u'cc-by',\n",
        " u'cc-by',\n",
        " u'cc-by',\n",
        " u'cc-by',\n",
        " u'cc-by',\n",
        " u'cc-by',\n",
        " u'cc-by',\n",
        " u'cc-by',\n",
        " u'cc-by',\n",
        " u'cc-by',\n",
        " u'cc-by',\n",
        " u'cc-by',\n",
        " u'cc-by',\n",
        " u'cc-by',\n",
        " u'cc-by',\n",
        " u'cc-by',\n",
        " u'cc-by',\n",
        " u'cc-by',\n",
        " u'cc-by',\n",
        " u'cc-by',\n",
        " u'cc-by',\n",
        " u'cc-by',\n",
        " u'cc-by',\n",
        " u'cc-by',\n",
        " u'cc-by',\n",
        " u'cc-by',\n",
        " u'cc-by',\n",
        " u'cc-by',\n",
        " u'cc-by',\n",
        " u'cc-by',\n",
        " u'cc-by',\n",
        " u'cc-by',\n",
        " u'cc-by',\n",
        " u'cc-by',\n",
        " u'cc-by',\n",
        " u'cc-by',\n",
        " u'cc-by',\n",
        " u'cc-by',\n",
        " u'cc-by',\n",
        " u'cc-by',\n",
        " u'cc-by',\n",
        " u'cc-by',\n",
        " u'cc-by',\n",
        " u'cc-by',\n",
        " u'cc-by',\n",
        " u'cc-by',\n",
        " u'cc-by',\n",
        " u'cc-by',\n",
        " u'cc-by',\n",
        " u'cc-by',\n",
        " u'cc-by',\n",
        " u'cc-by',\n",
        " u'cc-by',\n",
        " u'cc-by',\n",
        " u'cc-by',\n",
        " u'cc-by',\n",
        " u'cc-by',\n",
        " u'cc-by',\n",
        " u'cc-by',\n",
        " u'cc-by',\n",
        " u'cc-by',\n",
        " u'cc-by',\n",
        " u'cc-by',\n",
        " u'cc-by',\n",
        " u'cc-by',\n",
        " u'cc-by',\n",
        " u'cc-by',\n",
        " u'cc-by',\n",
        " u'cc-by',\n",
        " u'cc-by',\n",
        " u'cc-by',\n",
        " u'cc-by',\n",
        " u'cc-by',\n",
        " u'cc-by',\n",
        " u'cc-by',\n",
        " u'cc-by',\n",
        " u'cc-by',\n",
        " u'cc-by',\n",
        " u'cc-by',\n",
        " u'cc-by',\n",
        " u'cc-by',\n",
        " u'cc-by',\n",
        " u'cc-by',\n",
        " u'cc-by',\n",
        " u'cc-by',\n",
        " u'cc-by',\n",
        " u'cc-by',\n",
        " u'cc-by',\n",
        " u'cc-by',\n",
        " u'cc-by',\n",
        " u'cc-by',\n",
        " u'cc-by',\n",
        " u'cc-by',\n",
        " u'cc-by',\n",
        " u'cc-by',\n",
        " u'cc-by',\n",
        " u'cc-by',\n",
        " u'cc-by',\n",
        " u'cc-by',\n",
        " u'cc-by',\n",
        " u'cc-by',\n",
        " u'cc-by',\n",
        " u'cc-by',\n",
        " u'cc-by',\n",
        " u'cc-by',\n",
        " u'cc-by',\n",
        " u'cc-by',\n",
        " u'cc-by',\n",
        " u'cc-by',\n",
        " u'cc-by',\n",
        " u'cc-by',\n",
        " u'cc-by',\n",
        " u'cc-by',\n",
        " u'cc-by',\n",
        " u'cc-by',\n",
        " u'cc-by',\n",
        " u'cc-by',\n",
        " u'cc-by',\n",
        " u'cc-by',\n",
        " u'cc-by',\n",
        " u'cc-by',\n",
        " u'cc-by',\n",
        " u'cc-by',\n",
        " u'cc-by',\n",
        " u'cc-by',\n",
        " u'cc-zero',\n",
        " u'cc-by',\n",
        " u'cc-by',\n",
        " u'cc-by',\n",
        " u'cc-by',\n",
        " u'cc-by',\n",
        " u'cc-by',\n",
        " u'cc-by',\n",
        " u'cc-by',\n",
        " u'cc-zero',\n",
        " u'cc-by',\n",
        " u'cc-by',\n",
        " u'cc-by',\n",
        " u'cc-by',\n",
        " u'cc-by',\n",
        " u'cc-by',\n",
        " u'cc-by',\n",
        " u'cc-by',\n",
        " u'cc-by',\n",
        " u'cc-by',\n",
        " u'cc-by',\n",
        " u'cc-by',\n",
        " u'cc-by',\n",
        " u'cc-by',\n",
        " u'cc-by',\n",
        " u'cc-by',\n",
        " u'cc-by',\n",
        " u'cc-by',\n",
        " u'cc-by',\n",
        " u'cc-by',\n",
        " u'cc-by',\n",
        " u'cc-by',\n",
        " u'cc-by',\n",
        " u'cc-by',\n",
        " u'cc-by',\n",
        " u'cc-by',\n",
        " u'cc-by',\n",
        " u'cc-by',\n",
        " u'cc-by',\n",
        " u'cc-by',\n",
        " u'cc-by',\n",
        " u'cc-by',\n",
        " u'cc-by',\n",
        " u'cc-by',\n",
        " u'cc-by',\n",
        " u'cc-by',\n",
        " u'cc-by',\n",
        " u'cc-by',\n",
        " u'cc-by',\n",
        " u'cc-by',\n",
        " u'cc-by',\n",
        " u'cc-by',\n",
        " u'cc-by',\n",
        " u'cc-by',\n",
        " u'cc-by',\n",
        " u'cc-by',\n",
        " u'cc-by',\n",
        " u'cc-by',\n",
        " u'cc-by',\n",
        " u'cc-by',\n",
        " u'cc-by',\n",
        " u'cc-by',\n",
        " u'cc-by',\n",
        " u'cc-by',\n",
        " u'cc-by',\n",
        " u'cc-by',\n",
        " u'cc-by',\n",
        " u'cc-by',\n",
        " u'cc-by',\n",
        " u'cc-by',\n",
        " u'cc-by',\n",
        " u'cc-by',\n",
        " u'cc-by',\n",
        " u'cc-by',\n",
        " u'cc-by',\n",
        " u'cc-by',\n",
        " u'cc-by',\n",
        " u'cc-by',\n",
        " u'cc-by',\n",
        " u'cc-by',\n",
        " u'cc-by',\n",
        " u'cc-by',\n",
        " u'cc-by',\n",
        " u'cc-by',\n",
        " u'cc-by',\n",
        " u'cc-by',\n",
        " u'cc-by',\n",
        " u'cc-by',\n",
        " u'cc-by',\n",
        " u'cc-by',\n",
        " u'cc-by',\n",
        " u'cc-by',\n",
        " u'cc-by',\n",
        " u'cc-zero',\n",
        " u'cc-by',\n",
        " u'cc-by',\n",
        " u'cc-by',\n",
        " u'cc-by',\n",
        " u'cc-by',\n",
        " u'cc-by',\n",
        " u'cc-by',\n",
        " u'cc-by',\n",
        " u'cc-by',\n",
        " u'cc-by',\n",
        " u'cc-by',\n",
        " u'cc-by',\n",
        " u'cc-by',\n",
        " u'cc-nc',\n",
        " u'cc-by',\n",
        " u'cc-by',\n",
        " u'cc-nc',\n",
        " u'cc-by',\n",
        " u'cc-by',\n",
        " u'cc-by',\n",
        " u'cc-by',\n",
        " u'cc-nc',\n",
        " u'cc-nc',\n",
        " u'cc-nc',\n",
        " u'cc-by',\n",
        " u'cc-by',\n",
        " u'cc-nc',\n",
        " u'cc-by',\n",
        " u'cc-nc',\n",
        " u'cc-by',\n",
        " u'cc-by',\n",
        " u'cc-nc',\n",
        " u'cc-by',\n",
        " u'cc-by',\n",
        " u'free-to-read',\n",
        " u'cc-by',\n",
        " u'cc-by',\n",
        " u'cc-by',\n",
        " u'cc-by',\n",
        " u'cc-by',\n",
        " u'cc-by',\n",
        " u'cc-by',\n",
        " u'cc-by',\n",
        " u'cc-by',\n",
        " u'cc-by',\n",
        " u'cc-by',\n",
        " u'cc-by',\n",
        " u'cc-by',\n",
        " u'cc-by',\n",
        " u'cc-by',\n",
        " u'cc-by',\n",
        " u'cc-by',\n",
        " u'cc-by',\n",
        " u'cc-by',\n",
        " u'cc-by',\n",
        " u'cc-by',\n",
        " u'free-to-read',\n",
        " u'cc-by',\n",
        " u'cc-by',\n",
        " u'cc-by',\n",
        " u'cc-by',\n",
        " u'cc-by',\n",
        " u'cc-by',\n",
        " u'cc-by',\n",
        " u'free-to-read',\n",
        " u'cc-by',\n",
        " u'free-to-read',\n",
        " u'free-to-read',\n",
        " u'cc-nc',\n",
        " u'cc-nc',\n",
        " u'cc-nc',\n",
        " u'cc-by',\n",
        " u'cc-nc',\n",
        " u'cc-by',\n",
        " u'cc-nc',\n",
        " u'cc-nc',\n",
        " u'cc-nc',\n",
        " u'cc-nc',\n",
        " u'cc-nc',\n",
        " u'cc-nc',\n",
        " u'cc-nc',\n",
        " u'cc-nc',\n",
        " u'cc-nc',\n",
        " u'cc-by',\n",
        " u'cc-by',\n",
        " u'cc-by',\n",
        " u'cc-by',\n",
        " u'cc-by',\n",
        " u'cc-by',\n",
        " u'cc-by',\n",
        " u'cc-by',\n",
        " u'cc-by',\n",
        " u'cc-by',\n",
        " u'cc-by',\n",
        " u'cc-by',\n",
        " u'cc-by',\n",
        " u'cc-by',\n",
        " u'cc-by',\n",
        " u'cc-nc',\n",
        " u'cc-nc',\n",
        " u'cc-by',\n",
        " u'cc-by',\n",
        " u'cc-by',\n",
        " u'cc-by',\n",
        " u'cc-by',\n",
        " u'free-to-read',\n",
        " u'cc-by',\n",
        " u'free-to-read',\n",
        " u'free-to-read',\n",
        " u'free-to-read',\n",
        " u'cc-by',\n",
        " u'cc-by',\n",
        " u'cc-nc',\n",
        " u'free-to-read',\n",
        " u'cc-by',\n",
        " u'cc-by',\n",
        " u'cc-by',\n",
        " u'cc-by',\n",
        " u'cc-by',\n",
        " u'cc-by',\n",
        " u'cc-by',\n",
        " u'cc-nc',\n",
        " u'cc-by',\n",
        " u'cc-by',\n",
        " u'cc-by',\n",
        " u'cc-by',\n",
        " u'cc-by',\n",
        " u'cc-by',\n",
        " u'cc-by',\n",
        " u'cc-by',\n",
        " u'cc-by',\n",
        " u'cc-by',\n",
        " u'cc-nc',\n",
        " u'cc-by',\n",
        " u'cc-by',\n",
        " u'free-to-read',\n",
        " u'free-to-read',\n",
        " u'free-to-read',\n",
        " u'free-to-read',\n",
        " u'cc-by',\n",
        " u'cc-by',\n",
        " u'free-to-read',\n",
        " u'cc-by',\n",
        " u'cc-by',\n",
        " u'free-to-read',\n",
        " u'cc-by',\n",
        " u'cc-by',\n",
        " u'cc-by',\n",
        " u'cc-by',\n",
        " u'cc-by',\n",
        " u'cc-by',\n",
        " u'cc-by',\n",
        " u'free-to-read',\n",
        " u'cc-by',\n",
        " u'cc-by',\n",
        " u'cc-by',\n",
        " u'cc-by',\n",
        " u'free-to-read',\n",
        " u'cc-nc',\n",
        " u'cc-by',\n",
        " u'cc-nc',\n",
        " u'cc-by',\n",
        " u'cc-by',\n",
        " u'cc-by',\n",
        " u'cc-by',\n",
        " u'free-to-read',\n",
        " u'cc-nc',\n",
        " u'cc-by',\n",
        " u'cc-by',\n",
        " u'cc-by',\n",
        " u'cc-by',\n",
        " u'cc-by',\n",
        " u'cc-by',\n",
        " u'free-to-read',\n",
        " u'cc-by',\n",
        " u'cc-by',\n",
        " u'cc-by',\n",
        " u'cc-by',\n",
        " u'cc-by',\n",
        " u'cc-by',\n",
        " u'cc-by',\n",
        " u'free-to-read',\n",
        " u'free-to-read',\n",
        " u'cc-by',\n",
        " u'free-to-read',\n",
        " u'free-to-read',\n",
        " u'cc-by',\n",
        " u'free-to-read',\n",
        " u'cc-by',\n",
        " u'free-to-read',\n",
        " u'free-to-read',\n",
        " u'free-to-read',\n",
        " u'free-to-read',\n",
        " u'free-to-read',\n",
        " u'free-to-read',\n",
        " u'free-to-read',\n",
        " u'free-to-read',\n",
        " u'free-to-read',\n",
        " u'free-to-read',\n",
        " u'free-to-read',\n",
        " u'free-to-read',\n",
        " u'cc-by',\n",
        " u'cc-by',\n",
        " u'cc-by',\n",
        " u'cc-by',\n",
        " u'cc-by',\n",
        " u'cc-by',\n",
        " u'cc-by',\n",
        " u'cc-by',\n",
        " u'cc-by',\n",
        " u'cc-by',\n",
        " u'cc-by',\n",
        " u'cc-by',\n",
        " u'cc-by',\n",
        " u'cc-by',\n",
        " u'cc-by',\n",
        " u'free-to-read',\n",
        " u'free-to-read',\n",
        " u'cc-by',\n",
        " u'free-to-read',\n",
        " u'cc-by',\n",
        " u'free-to-read',\n",
        " u'cc-by',\n",
        " u'free-to-read',\n",
        " u'free-to-read',\n",
        " u'free-to-read',\n",
        " u'free-to-read',\n",
        " u'free-to-read',\n",
        " u'cc-nc',\n",
        " u'cc-by',\n",
        " u'free-to-read',\n",
        " u'cc-by',\n",
        " u'cc-by',\n",
        " u'cc-by',\n",
        " u'cc-by',\n",
        " u'cc-by',\n",
        " u'cc-by',\n",
        " u'cc-nc',\n",
        " u'cc-by',\n",
        " u'cc-by',\n",
        " u'cc-by',\n",
        " u'free-to-read',\n",
        " u'cc-by',\n",
        " u'cc-by',\n",
        " u'cc-by',\n",
        " u'cc-by',\n",
        " u'cc-by',\n",
        " u'cc-by',\n",
        " u'cc-by',\n",
        " u'cc-by',\n",
        " u'cc-by',\n",
        " u'cc-by',\n",
        " u'cc-by',\n",
        " u'cc-by',\n",
        " u'cc-by',\n",
        " u'cc-by',\n",
        " u'cc-by',\n",
        " u'cc-by',\n",
        " u'cc-by',\n",
        " u'cc-by',\n",
        " u'cc-by',\n",
        " u'cc-by',\n",
        " u'cc-by',\n",
        " u'cc-by',\n",
        " u'cc-by',\n",
        " u'cc-by',\n",
        " u'cc-by',\n",
        " u'cc-by',\n",
        " u'cc-by',\n",
        " u'free-to-read',\n",
        " u'free-to-read',\n",
        " u'free-to-read',\n",
        " u'free-to-read',\n",
        " u'free-to-read',\n",
        " u'free-to-read',\n",
        " u'free-to-read',\n",
        " u'free-to-read',\n",
        " u'free-to-read',\n",
        " u'free-to-read',\n",
        " u'free-to-read',\n",
        " u'free-to-read',\n",
        " u'free-to-read',\n",
        " u'free-to-read',\n",
        " u'free-to-read',\n",
        " u'free-to-read',\n",
        " u'free-to-read',\n",
        " u'free-to-read',\n",
        " u'free-to-read',\n",
        " u'free-to-read',\n",
        " u'free-to-read',\n",
        " u'free-to-read',\n",
        " u'free-to-read',\n",
        " u'free-to-read',\n",
        " u'free-to-read',\n",
        " u'free-to-read',\n",
        " u'free-to-read',\n",
        " u'free-to-read',\n",
        " u'free-to-read',\n",
        " u'free-to-read',\n",
        " u'free-to-read',\n",
        " u'free-to-read',\n",
        " u'cc-by',\n",
        " u'free-to-read',\n",
        " u'cc-by',\n",
        " u'free-to-read',\n",
        " u'free-to-read',\n",
        " u'free-to-read',\n",
        " u'free-to-read',\n",
        " u'free-to-read',\n",
        " u'free-to-read',\n",
        " u'free-to-read',\n",
        " u'free-to-read',\n",
        " u'free-to-read',\n",
        " u'free-to-read',\n",
        " u'free-to-read',\n",
        " u'free-to-read',\n",
        " u'free-to-read',\n",
        " u'free-to-read',\n",
        " u'free-to-read',\n",
        " u'free-to-read',\n",
        " u'free-to-read',\n",
        " u'cc-by',\n",
        " u'free-to-read',\n",
        " u'free-to-read',\n",
        " u'free-to-read',\n",
        " u'free-to-read',\n",
        " u'free-to-read',\n",
        " u'free-to-read',\n",
        " u'free-to-read',\n",
        " u'free-to-read',\n",
        " u'free-to-read',\n",
        " u'free-to-read',\n",
        " u'free-to-read',\n",
        " u'free-to-read',\n",
        " u'free-to-read',\n",
        " u'free-to-read',\n",
        " u'cc-by',\n",
        " u'free-to-read',\n",
        " u'free-to-read',\n",
        " u'free-to-read',\n",
        " u'free-to-read',\n",
        " u'free-to-read',\n",
        " u'free-to-read',\n",
        " u'free-to-read',\n",
        " u'free-to-read',\n",
        " u'free-to-read',\n",
        " u'cc-by',\n",
        " u'free-to-read',\n",
        " u'free-to-read',\n",
        " u'free-to-read',\n",
        " u'free-to-read',\n",
        " u'free-to-read',\n",
        " u'free-to-read',\n",
        " u'free-to-read',\n",
        " u'free-to-read',\n",
        " u'free-to-read',\n",
        " u'cc-by',\n",
        " u'free-to-read',\n",
        " u'free-to-read',\n",
        " u'cc-by',\n",
        " u'free-to-read',\n",
        " u'free-to-read',\n",
        " u'free-to-read',\n",
        " u'free-to-read',\n",
        " u'free-to-read',\n",
        " u'free-to-read',\n",
        " u'free-to-read',\n",
        " u'free-to-read',\n",
        " u'free-to-read',\n",
        " u'free-to-read',\n",
        " u'free-to-read',\n",
        " u'free-to-read',\n",
        " u'free-to-read',\n",
        " u'free-to-read',\n",
        " u'free-to-read',\n",
        " u'free-to-read',\n",
        " u'free-to-read',\n",
        " u'free-to-read',\n",
        " u'free-to-read',\n",
        " u'free-to-read',\n",
        " u'cc-by',\n",
        " u'free-to-read',\n",
        " u'free-to-read',\n",
        " u'free-to-read',\n",
        " u'free-to-read',\n",
        " u'free-to-read',\n",
        " u'free-to-read',\n",
        " u'free-to-read',\n",
        " u'free-to-read',\n",
        " u'free-to-read',\n",
        " u'free-to-read',\n",
        " u'free-to-read',\n",
        " u'free-to-read',\n",
        " u'free-to-read',\n",
        " u'free-to-read',\n",
        " u'free-to-read',\n",
        " u'free-to-read',\n",
        " u'free-to-read',\n",
        " u'free-to-read',\n",
        " u'free-to-read',\n",
        " u'free-to-read',\n",
        " u'free-to-read',\n",
        " u'free-to-read',\n",
        " u'free-to-read',\n",
        " u'free-to-read',\n",
        " u'free-to-read',\n",
        " u'free-to-read',\n",
        " u'cc-by',\n",
        " u'free-to-read',\n",
        " u'free-to-read',\n",
        " u'free-to-read',\n",
        " u'free-to-read',\n",
        " u'free-to-read',\n",
        " u'free-to-read',\n",
        " u'free-to-read',\n",
        " u'free-to-read',\n",
        " u'free-to-read',\n",
        " u'free-to-read',\n",
        " u'free-to-read',\n",
        " u'free-to-read',\n",
        " u'free-to-read',\n",
        " u'free-to-read',\n",
        " u'free-to-read',\n",
        " u'free-to-read',\n",
        " u'cc-by',\n",
        " u'free-to-read',\n",
        " u'free-to-read',\n",
        " u'free-to-read',\n",
        " u'free-to-read',\n",
        " u'free-to-read',\n",
        " u'free-to-read',\n",
        " u'cc-by',\n",
        " u'free-to-read',\n",
        " u'free-to-read',\n",
        " u'free-to-read',\n",
        " u'free-to-read',\n",
        " u'free-to-read',\n",
        " u'free-to-read',\n",
        " u'free-to-read',\n",
        " u'free-to-read',\n",
        " u'free-to-read',\n",
        " u'free-to-read',\n",
        " u'free-to-read',\n",
        " u'free-to-read',\n",
        " u'free-to-read',\n",
        " u'free-to-read',\n",
        " u'free-to-read',\n",
        " u'cc-by',\n",
        " u'free-to-read',\n",
        " u'free-to-read',\n",
        " u'free-to-read',\n",
        " u'cc-by',\n",
        " u'cc-by',\n",
        " u'free-to-read',\n",
        " u'free-to-read',\n",
        " u'free-to-read',\n",
        " u'free-to-read',\n",
        " u'free-to-read',\n",
        " u'free-to-read',\n",
        " u'free-to-read',\n",
        " u'free-to-read',\n",
        " u'free-to-read',\n",
        " u'free-to-read',\n",
        " u'free-to-read',\n",
        " u'free-to-read',\n",
        " u'free-to-read',\n",
        " u'free-to-read',\n",
        " u'free-to-read',\n",
        " u'free-to-read',\n",
        " u'free-to-read',\n",
        " u'free-to-read',\n",
        " u'free-to-read',\n",
        " u'free-to-read']"
       ]
      }
     ],
     "prompt_number": 19
    },
    {
     "cell_type": "code",
     "collapsed": false,
     "input": [
      "failed = [article.get('DOI') for article in data if article.get('DOI') not in [a['identifier'][0]['id'] for a in req.response]]\n",
      "len(failed)"
     ],
     "language": "python",
     "metadata": {},
     "outputs": [
      {
       "metadata": {},
       "output_type": "pyout",
       "prompt_number": 20,
       "text": [
        "41"
       ]
      }
     ],
     "prompt_number": 20
    },
    {
     "cell_type": "code",
     "collapsed": false,
     "input": [
      "index = {}\n",
      "for i, article in enumerate(data):\n",
      "    index[article.get('DOI', 'no-doi')] = i\n",
      "    \n",
      "for article in req.response:\n",
      "    doi = article.get('identifier')[0]['id']\n",
      "    i = index.get(doi)\n",
      "    if i:\n",
      "        data[i]['oag'] = article.get('license')[0].get('type')\n",
      "    "
     ],
     "language": "python",
     "metadata": {},
     "outputs": [],
     "prompt_number": 21
    },
    {
     "cell_type": "code",
     "collapsed": false,
     "input": [
      "mappin = {'CC BY' : 'cc-by',\n",
      "          'CC-BY' : 'cc-by',\n",
      "          'CC BY-NC' : 'cc-nc',\n",
      "          'CC-BY-NC' : 'cc-nc',\n",
      "          'CC BY NC' : 'cc-nc',\n",
      "          'CC-BY-NC-ND' : 'cc-nc-nd',\n",
      "          'CC BY-NC-ND' : 'cc-nc-nd',\n",
      "          'CC BY-NC-SA' : 'cc-nc-sa',\n",
      "          'CC-BY-NC-SA' : 'cc-nc-sa',\n",
      "          'Publisher copyright' : 'Publisher copyright',\n",
      "          '' : ''}\n",
      "\n",
      "for article in data:\n",
      "    article['licence type'] = mappin.get(article.get('CC licence type', ''), 'other')\n",
      "          "
     ],
     "language": "python",
     "metadata": {},
     "outputs": [],
     "prompt_number": 22
    },
    {
     "cell_type": "code",
     "collapsed": false,
     "input": [
      "with open('data/wellcome-apc-oag.csv', 'w') as f:\n",
      "    writer  = csv.DictWriter(f, ['DOI', 'Journal title', 'Article title', 'Publisher', 'CC licence type', 'licence type', 'oag'], extrasaction='ignore')\n",
      "    writer.writeheader()\n",
      "    writer.writerows(data)"
     ],
     "language": "python",
     "metadata": {},
     "outputs": [],
     "prompt_number": 23
    },
    {
     "cell_type": "code",
     "collapsed": false,
     "input": [
      "data[1]"
     ],
     "language": "python",
     "metadata": {},
     "outputs": [
      {
       "metadata": {},
       "output_type": "pyout",
       "prompt_number": 59,
       "text": [
        "{'Altmetric score': '',\n",
        " 'Article title': 'High Coverage of ART increases',\n",
        " 'CC licence type': '',\n",
        " 'Citations Google Scholar': '',\n",
        " 'Contributor': '',\n",
        " 'Copyright Owner': '',\n",
        " 'Cost': '\\xe5\\xa3949.52',\n",
        " 'DOI': '',\n",
        " 'DOIURL': '',\n",
        " 'ISSN': '',\n",
        " 'Is the article freely available?': '',\n",
        " 'Journal Impact Factor': '',\n",
        " 'Journal title': 'Science',\n",
        " 'Notes': 'This appears to be the correct DOI for the article. The title is shortened in the spreadsheet',\n",
        " 'OpenArticleGauge': '',\n",
        " 'Owned by/Affiliated to/Journal of': 'American Association for the Advancement of Science',\n",
        " 'PMC': '',\n",
        " 'PMCID': '',\n",
        " 'PMID': '',\n",
        " 'Publisher': 'American Association for the Advancement of Science',\n",
        " 'Pure OA': 'Hybrid',\n",
        " 'ROMEO': '',\n",
        " 'XML Metadata': ''}"
       ]
      }
     ],
     "prompt_number": 59
    },
    {
     "cell_type": "code",
     "collapsed": false,
     "input": [],
     "language": "python",
     "metadata": {},
     "outputs": []
    }
   ],
   "metadata": {}
  }
 ]
}